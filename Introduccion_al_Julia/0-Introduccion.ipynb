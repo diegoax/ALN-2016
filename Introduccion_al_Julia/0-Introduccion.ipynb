{
 "cells": [
  {
   "cell_type": "markdown",
   "metadata": {},
   "source": [
    "# INTRODUCCION AL LENGUAJE JULIA\n",
    "### Para ejecutar los comandos de un rectangulo, seleccione el rectangulo y oprima\n",
    "### Shift + Enter. Para seguir este tutorial se recomienda ejecutar los bloques en el orden en que aparecen.\n",
    "### Esta clase tiene 4 puntos principales, numerados en el texto. Adicionalmente varios bloques contienen _ejercicios_ . Es muy importante realizarlos todos (si quiere insertar nuevos bloques para hacer los ejercicios puede oprimir el + que aparece en la barra de arriba).\n"
   ]
  },
  {
   "cell_type": "markdown",
   "metadata": {},
   "source": [
    "# 1. Variables: La manera en la que Julia representa datos."
   ]
  },
  {
   "cell_type": "code",
   "execution_count": null,
   "metadata": {
    "collapsed": false
   },
   "outputs": [],
   "source": [
    "#Lo que esta escrito adelante del simbolo de numeral son comentarios que escribo por claridad y que no afectan \n",
    "#la ejecucion del codigo.\n",
    "#Julia puede manejar muchos tipos de numeros_\n",
    "a= 1 #Enteros\n",
    "b= 1.5 # Decimales de punto flotante\n",
    "c= 1 + 7*im #Numeros complejos\n",
    "d = 3//2 #Numeros racionales (que Julia manipula de manera simbolica, sin redondeo)"
   ]
  },
  {
   "cell_type": "code",
   "execution_count": null,
   "metadata": {
    "collapsed": false
   },
   "outputs": [],
   "source": [
    "#Con ellos podemos hacer operaciones aritmeticas, por ejemplo\n",
    "f = a+b^2-d^3\n",
    "#Para imprimir el valor actual de una variable se usa \n",
    "println(f)\n",
    "# Tambien podemos calcular funciones trascendentes: exponenciales y trigonometricas asi como \n",
    "# funciones especiales mas complicadas (como las funciones Gamma o Beta, etc)\n",
    "println(sin(a))\n",
    "println(e^c)\n",
    "println(gamma(d))\n"
   ]
  },
  {
   "cell_type": "code",
   "execution_count": null,
   "metadata": {
    "collapsed": false
   },
   "outputs": [],
   "source": [
    "#Cada variable en Julia tiene un valor\n",
    "println(\"Valor $a\")\n",
    "# y un tipo, que es la manera en la que Julia representa internamente a la variable\n",
    "# el tipo de una variable esta dado por \n",
    "t = typeof(a)\n",
    "println(\"Tipo $t\")\n",
    "\n",
    "#Ejercicio. Escriba aqui debajo un codigo que imprima el tipo de las variables a,b,c,d.\n"
   ]
  },
  {
   "cell_type": "code",
   "execution_count": null,
   "metadata": {
    "collapsed": false
   },
   "outputs": [],
   "source": [
    "#El tipo es muy importante porque dependiendo del tipo, la manera en que se hacen operaciones varia.\n",
    "#Por ejemplo, el siguiente codigo produce un resultado claramente INCORRECTO\n",
    "a=2\n",
    "b = a ^(64)\n",
    "println(b)"
   ]
  },
  {
   "cell_type": "code",
   "execution_count": null,
   "metadata": {
    "collapsed": false
   },
   "outputs": [],
   "source": [
    "#La razon es que el tipo de a es Int64. Toda variable de este tipo esta representada en el computador\n",
    "#por un vector de un cierto tamaño(64 digitos binarios). Como nuestra operacion excede ese limite el computador \n",
    "#hace el calculo modulo un entero muy grande (para ganar velocidad pues ese tipo de calculos se hace en hardware).\n",
    "#La manera de arreglarlo es explicarle a Julia que queremos hacer calculos muy grandes declarando explicitamente que \n",
    "#queremos que el tipo de nuestra variable sea BigInt, que tiene muchisima mas precision.\n",
    "\n",
    "a=BigInt(2)#Este renglon dice que queremos que a sea una variable de tipo BigInt.\n",
    "b = a ^(64)\n",
    "println(b)\n",
    "\n",
    "#Los tipos numericos que hay que conocer y distinguir son: Int64, Float64, BigInt y BigFloat."
   ]
  },
  {
   "cell_type": "markdown",
   "metadata": {},
   "source": [
    "# 2. Ciclos (For loops). Es decir repetir una tarea muchas veces para diferentes valores de un parametro."
   ]
  },
  {
   "cell_type": "code",
   "execution_count": null,
   "metadata": {
    "collapsed": false
   },
   "outputs": [],
   "source": [
    "#Ejemplo basico de un ciclo\n",
    "# El siguiente codigo imprime los numeros enteros entre 0 y 10\n",
    "for k in 0:10\n",
    "    println(k)\n",
    "end\n",
    "#Lo importante es que el codigo adentro del for se evalua una vez por cada valor de k\n",
    "\n",
    "#Ejercicio. Modifique el codigo de arriba para que el ciclo imprima los numeros impares entre 1 y 20."
   ]
  },
  {
   "cell_type": "code",
   "execution_count": null,
   "metadata": {
    "collapsed": false
   },
   "outputs": [],
   "source": [
    "# Ejercicio: Explique por que el siguiente codigo evalua n!\n",
    "n=10\n",
    "\n",
    "Res = 1\n",
    "\n",
    "for j in 1:n\n",
    "    Res = Res * j\n",
    "    println(\"En turno $j el valor es $Res\")\n",
    "end\n",
    "\n",
    "println(Res)\n"
   ]
  },
  {
   "cell_type": "code",
   "execution_count": null,
   "metadata": {
    "collapsed": false
   },
   "outputs": [],
   "source": [
    "#Julia tiene tambien muchas funciones predeterminadas\n",
    "factorial(10)"
   ]
  },
  {
   "cell_type": "markdown",
   "metadata": {},
   "source": [
    "# 3. Condicionales (if). El programa hace cosas distintas dependiendo de si se cumple o no una condicion."
   ]
  },
  {
   "cell_type": "code",
   "execution_count": null,
   "metadata": {
    "collapsed": false
   },
   "outputs": [],
   "source": [
    "#Ejercicio: Entender el comportamiento del siguiente fragmento de codigo (que hace?)\n",
    "\n",
    "n=-5 #Cambie n a 1,2,3,4,5 sucesivamente para ver que hace el programa\n",
    "\n",
    "if (n<0) #Preguntamos si n<0\n",
    "    println(\"Numero Negativo, ERROR\")#Si la respuesta es afirmativa se ejecuta esta linea (lo que esta entre el if y el else)\n",
    "else #Si la respuesta es negativa se ejecuta lo que esta entre else y end, es decir las 5 lineas siguientes\n",
    "    SumaTotal = 0\n",
    "    for numeroActual in 1:n\n",
    "        SumaTotal = SumaTotal + numeroActual\n",
    "    end\n",
    "    println(SumaTotal)\n",
    "end\n"
   ]
  },
  {
   "cell_type": "code",
   "execution_count": null,
   "metadata": {
    "collapsed": false
   },
   "outputs": [],
   "source": [
    "#Ejercicio: Escriba un programa que calcule el \\\n",
    "#enesimo numero de fibonacci.\n",
    "# Recuerde que fib(0) = 1 fib(1) = 1 y de ahi en adelante, fib(n) es la suma de los dos valores anteriores\n",
    "n=10\n",
    "A=1\n",
    "B=1\n",
    "\n",
    "for k in 1:n\n",
    "    C=A+B\n",
    "    A=B\n",
    "    B=C\n",
    "    println(A)\n",
    "end\n",
    "\n",
    "println(A)\n",
    "\n"
   ]
  },
  {
   "cell_type": "markdown",
   "metadata": {},
   "source": [
    "# 4. Funciones (function)\n",
    "### Tipicamente un programa de computador se obtiene de combinar fragmentos mas pequeños.\n",
    "### Las funciones son formas de reutilizar codigo, en vez de reescribirlo muchas veces. \n",
    "### Para entender su utilidad resolveremos el siguiente ejercicio de dos maneras.\n",
    "\n",
    "#### Ejercicio: Escriba un codigo que calcule la suma de los n primeros terminos de la sucesion de Fibonacci "
   ]
  },
  {
   "cell_type": "code",
   "execution_count": null,
   "metadata": {
    "collapsed": false
   },
   "outputs": [],
   "source": [
    "#SOLUCION 1 (MALA IDEA) \n",
    "#Combinaremos los pedazos de codigo que habiamos escrito antes y crearemos un codigo (largo y complicado)\n",
    "#que hace la tarea asi:\n",
    "\n",
    "n=5\n",
    "if (n<0) \n",
    "    println(\"Numero Negativo, ERROR\")\n",
    "else\n",
    "    SumaTotal = 0\n",
    "    for numeroActual in 0:n\n",
    "            A=1\n",
    "            B=1\n",
    "            for k in 1:numeroActual\n",
    "                C=A+B\n",
    "                A=B\n",
    "                B=C\n",
    "            end\n",
    "            SumaTotal = SumaTotal + A \n",
    "    end\n",
    "    println(SumaTotal)\n",
    "end\n",
    "\n",
    "\n"
   ]
  },
  {
   "cell_type": "code",
   "execution_count": null,
   "metadata": {
    "collapsed": false
   },
   "outputs": [],
   "source": [
    "#SOLUCION 2 (BUENA IDEA)\n",
    "#definimos una nueva funcion y (en el siguiente bloque), la usamos para resolver el problema \n",
    "\n",
    "#La siguiente funcion calcula el enesimo termino de la sucesion de Fibonacci\n",
    "function nuestroCalculadorFib(n)#La funcion recibe un entero n\n",
    "    A=BigInt(1)\n",
    "    B=BigInt(1)\n",
    "    for k in 0:n\n",
    "        C = A + B\n",
    "        A = B\n",
    "        B = C\n",
    "    end\n",
    "    return A #Este es el valor que produce la funcion cuando se la llama\n",
    "end\n"
   ]
  },
  {
   "cell_type": "code",
   "execution_count": null,
   "metadata": {
    "collapsed": false
   },
   "outputs": [],
   "source": [
    "#Una vez definida la funcion se usa como todas las demas de Julia\n",
    "for k in 1:10\n",
    "    println(nuestroCalculadorFib(k))\n",
    "end\n"
   ]
  },
  {
   "cell_type": "code",
   "execution_count": null,
   "metadata": {
    "collapsed": false
   },
   "outputs": [],
   "source": [
    "#Ahora podemos usar nuestra nueva funcion y facilmente escribir codigo que produzca la suma\n",
    "#que tan grande puede ser n antes de que el computador no pueda seguir haciendo el calculo?\n",
    "#La suma de los primeros n terminos de la sucesion de Fibonacci es:\n",
    "n=500\n",
    "Res = 0\n",
    "for k in 0:n\n",
    "    Res = Res + nuestroCalculadorFib(k)#Aca usamos la funcion que definimos anteriormente\n",
    "end\n",
    "println(Res)"
   ]
  },
  {
   "cell_type": "code",
   "execution_count": null,
   "metadata": {
    "collapsed": false
   },
   "outputs": [],
   "source": [
    "#Por ultimo, hay muchas formas de implementar una misma funcion en Julia\n",
    "#Por ejemplo aca hay una version recursiva de la funcion que calcula la sucesion de fibonacci\n",
    "function fibonacciRecursiva(n)\n",
    "    if n<2\n",
    "        return 1\n",
    "    else\n",
    "        return fibonacciRecursiva(n-1) + fibonacciRecursiva(n-2)\n",
    "    end\n",
    "end"
   ]
  },
  {
   "cell_type": "code",
   "execution_count": null,
   "metadata": {
    "collapsed": false
   },
   "outputs": [],
   "source": [
    "for k in 1:10\n",
    "    println(fibonacciRecursiva(k))\n",
    "end"
   ]
  },
  {
   "cell_type": "code",
   "execution_count": null,
   "metadata": {
    "collapsed": true
   },
   "outputs": [],
   "source": [
    "#Ejercicio: \n",
    "# Escriba una funcion que reciba numeros flotantes x0 y r y un entero n y calcule el enesimo termino de la recursion logistica\n",
    "# x_n=rx_{n-1}(1-x_{n-1}). La funcion debe primero chequear que x_0 y r estanentre 0 y 1 y dar error si no es asi.\n"
   ]
  }
 ],
 "metadata": {
  "kernelspec": {
   "display_name": "Julia 0.4.5",
   "language": "julia",
   "name": "julia-0.4"
  },
  "language_info": {
   "file_extension": ".jl",
   "mimetype": "application/julia",
   "name": "julia",
   "version": "0.4.5"
  }
 },
 "nbformat": 4,
 "nbformat_minor": 0
}
