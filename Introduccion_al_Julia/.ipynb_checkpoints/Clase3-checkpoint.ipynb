{
 "cells": [
  {
   "cell_type": "markdown",
   "metadata": {},
   "source": [
    "# Problema 1. (The _derangements_ problem)\n",
    "### $n$ personas van a una fiesta y ponen sus sombreros (todos distintos) en una bolsa. Al salir cada uno toma un sombrero. Cual es la probabilidad de que NADIE se vaya a casa con su propio sombrero?"
   ]
  },
  {
   "cell_type": "code",
   "execution_count": 1,
   "metadata": {
    "collapsed": false
   },
   "outputs": [
    {
     "data": {
      "text/plain": [
       "vectorADiccionario (generic function with 1 method)"
      ]
     },
     "execution_count": 1,
     "metadata": {},
     "output_type": "execute_result"
    }
   ],
   "source": [
    "# Pensamos en cada configuracion posible de sombreros como una permutacion de n\n",
    "# Nuestra primera funcion detecta si un vector dado es una permutacion de [1,n]\n",
    "esPermutacion(P:: Array{Int64}) = all(map((j)->sort(P)[j]==j ? true : false, 1:length(P)))\n",
    "\n",
    "#Mas generalmente, querriamos contar cuantas ocurrencias hay de cada entrada de un vector\n",
    "#Para ello se utiliza la clase Dictionary, como en el siguiente ejemplo\n",
    "function vectorADiccionario(V)\n",
    "  nuevoDict = Dict()\n",
    "  for k in V\n",
    "    haskey(nuevoDict, k) ? nuevoDict[k] += 1 : nuevoDict[k] = 1\n",
    "  end\n",
    "  return nuevoDict\n",
    "end\n"
   ]
  },
  {
   "cell_type": "code",
   "execution_count": 2,
   "metadata": {
    "collapsed": false
   },
   "outputs": [
    {
     "name": "stdout",
     "output_type": "stream",
     "text": [
      "Diccionario: Dict{Any,Any}(4=>1,2=>1,3=>2,1=>3)\n",
      "keys son: Any[4,2,3,1]\n",
      "valores son: Any[1,1,2,3]\n"
     ]
    }
   ],
   "source": [
    "#Ahora probamos nuestra funcion\n",
    "P = [2,3,3,4,1,1,1]\n",
    "Dres = vectorADiccionario(P)\n",
    "println(\"Diccionario: $(Dres)\")\n",
    "println(\"keys son: $(keys(Dres))\")\n",
    "println(\"valores son: $(values(Dres))\")"
   ]
  },
  {
   "cell_type": "code",
   "execution_count": 3,
   "metadata": {
    "collapsed": false
   },
   "outputs": [
    {
     "data": {
      "text/plain": [
       "puntoFijo (generic function with 1 method)"
      ]
     },
     "execution_count": 3,
     "metadata": {},
     "output_type": "execute_result"
    }
   ],
   "source": [
    "#Ahora contamos el numero de puntos fijos de una permutacion cualquiera. Hay varias implementaciones abajo\n",
    "function puntoFijo(P)\n",
    "    if esPermutacion(P)==false throw(AssertionError(\"No es una permutacion\")) #En general es buena idea chequear la correccion del input\n",
    "    else\n",
    "        N = length(P)\n",
    "        Pf = 0\n",
    "        for k in 1:N\n",
    "            if P[k] == k \n",
    "                Pf +=1 \n",
    "            end\n",
    "        end    \n",
    "    end\n",
    "    return Pf\n",
    "end"
   ]
  },
  {
   "cell_type": "code",
   "execution_count": 5,
   "metadata": {
    "collapsed": false
   },
   "outputs": [
    {
     "data": {
      "text/plain": [
       "3"
      ]
     },
     "execution_count": 5,
     "metadata": {},
     "output_type": "execute_result"
    }
   ],
   "source": [
    "puntoFijo([1,2,3])"
   ]
  },
  {
   "cell_type": "code",
   "execution_count": 6,
   "metadata": {
    "collapsed": false
   },
   "outputs": [
    {
     "data": {
      "text/plain": [
       "puntoFijo2 (generic function with 1 method)"
      ]
     },
     "execution_count": 6,
     "metadata": {},
     "output_type": "execute_result"
    }
   ],
   "source": [
    "#Implementacion 2:\n",
    "function puntoFijo2(P)\n",
    "    if esPermutacion(P) == false throw(AssertionError(\"No es una permutacion\"))\n",
    "    else\n",
    "        length(find(((j)-> P[j]==j), collect(1:length(P))))\n",
    "    end\n",
    "end"
   ]
  },
  {
   "cell_type": "code",
   "execution_count": 8,
   "metadata": {
    "collapsed": false
   },
   "outputs": [
    {
     "data": {
      "text/plain": [
       "puntoFijo3 (generic function with 1 method)"
      ]
     },
     "execution_count": 8,
     "metadata": {},
     "output_type": "execute_result"
    }
   ],
   "source": [
    "#Opcion 3 (no chequea validez del input!)\n",
    "puntoFijo3(P) = sum(map((j)-> P[j]==j, collect(1:length(P))))"
   ]
  },
  {
   "cell_type": "code",
   "execution_count": 15,
   "metadata": {
    "collapsed": false
   },
   "outputs": [],
   "source": [
    "#Verificar que un programa hace lo que uno cree es lo más dificil de programar. \n",
    "#La manera usual es mediante tests automatizados, que se implementan asi:\n",
    "using Base.Test #Libreria de tests de julia\n",
    "NTEST=10\n",
    "P= collect(1:NTEST)\n",
    "#Verificamos que las 3 implementaciones den el resultado correcto en la identidad\n",
    "for f in [puntoFijo , puntoFijo2, puntoFijo3]\n",
    "    #f aca es un objeto de tipo function, que usamos por primera vez aca\n",
    "    @test(f(P)==NTEST)\n",
    "end\n",
    "#Aunque no imprime nada @test chequea que la expresion entre parentesis retorne true. Si es false bloquea la ejecución y da un error\n"
   ]
  },
  {
   "cell_type": "code",
   "execution_count": 26,
   "metadata": {
    "collapsed": false
   },
   "outputs": [
    {
     "data": {
      "text/plain": [
       "true"
      ]
     },
     "execution_count": 26,
     "metadata": {},
     "output_type": "execute_result"
    }
   ],
   "source": [
    "#Ahora que confiamos en nuestra funcion que cuenta puntos fijos podemos usarla\n",
    "function derangements(n)\n",
    "    Res = 0\n",
    "    for P in permutations(1:n)\n",
    "        if puntoFijo2(P)== 0 Res+=1 end\n",
    "    end\n",
    "    return Res    \n",
    "end\n",
    "# O, con una implememtacion mas corta\n",
    "derangements2(n) = sum(map((P)-> puntoFijo(P) == 0 ? 1 : 0, collect(permutations(1:n))))\n",
    "\n",
    "derangements(4)==derangements2(4)"
   ]
  },
  {
   "cell_type": "code",
   "execution_count": 27,
   "metadata": {
    "collapsed": false
   },
   "outputs": [
    {
     "name": "stdout",
     "output_type": "stream",
     "text": [
      "0.0\n",
      "0.5\n",
      "0.3333333333333333\n",
      "0.375\n",
      "0.36666666666666664\n",
      "0.3680555555555556\n",
      "0.3678571428571429\n",
      "0.36788194444444444\n",
      "0.36787918871252206\n",
      "0.3678794642857143\n"
     ]
    }
   ],
   "source": [
    "#Ahora calculamos el numero de derangements\n",
    "for n in 1:10\n",
    "    println(derangements(n)/factorial(n))\n",
    "end"
   ]
  },
  {
   "cell_type": "code",
   "execution_count": 28,
   "metadata": {
    "collapsed": false
   },
   "outputs": [
    {
     "data": {
      "text/plain": [
       "0.36787944117144233"
      ]
     },
     "execution_count": 28,
     "metadata": {},
     "output_type": "execute_result"
    }
   ],
   "source": [
    "1/e^1 #Sugiere lo anterior algun teorema?"
   ]
  },
  {
   "cell_type": "markdown",
   "metadata": {},
   "source": [
    "# Problema 2: (Ley de Wigner)\n",
    "\n",
    "### Sea A una matriz simetrica de nxn con entradas independientes con distribucion normal standard y sea B=A/sqrt(n). Haga un histograma con los valores propios de B para varios valores de n"
   ]
  },
  {
   "cell_type": "code",
   "execution_count": 57,
   "metadata": {
    "collapsed": false
   },
   "outputs": [
    {
     "data": {
      "text/plain": [
       "5x4 Array{Tuple{Int64,Int64},2}:\n",
       " (1,1)  (1,2)  (1,3)  (1,4)\n",
       " (2,1)  (2,2)  (2,3)  (2,4)\n",
       " (3,1)  (3,2)  (3,3)  (3,4)\n",
       " (4,1)  (4,2)  (4,3)  (4,4)\n",
       " (5,1)  (5,2)  (5,3)  (5,4)"
      ]
     },
     "execution_count": 57,
     "metadata": {},
     "output_type": "execute_result"
    }
   ],
   "source": [
    "[(i,j) for i in 1:5, j in 1:4]"
   ]
  },
  {
   "cell_type": "code",
   "execution_count": 62,
   "metadata": {
    "collapsed": false
   },
   "outputs": [
    {
     "data": {
      "text/plain": [
       "4x4 Array{Float64,2}:\n",
       " 0.0  0.0  0.0  0.0\n",
       " 0.0  0.0  0.0  0.0\n",
       " 0.0  0.0  0.0  0.0\n",
       " 0.0  0.0  0.0  0.0"
      ]
     },
     "execution_count": 62,
     "metadata": {},
     "output_type": "execute_result"
    }
   ],
   "source": [
    "zeros(4,4)"
   ]
  },
  {
   "cell_type": "code",
   "execution_count": 123,
   "metadata": {
    "collapsed": false
   },
   "outputs": [
    {
     "data": {
      "text/plain": [
       "4000x4000 Array{Float64,2}:\n",
       " 0.000264807  0.00825261   0.00385586  …  7.08212e-5   0.006232   \n",
       " 0.00825261   0.00180861   0.00266853     0.00359112   0.00715339 \n",
       " 0.00385586   0.00266853   0.015648       0.00718563   0.00476949 \n",
       " 0.00291874   0.01536      0.00309409     0.00855576   0.0137357  \n",
       " 0.0109       0.00432854   0.0145641      0.00127851   0.00486844 \n",
       " 0.0156923    0.00984803   0.0035687   …  0.0140451    0.0149692  \n",
       " 0.00138214   0.0113552    0.00855539     0.0130788    0.00175773 \n",
       " 0.00641283   0.0108991    0.00333156     0.0101496    0.00209176 \n",
       " 0.0028002    0.00769848   0.0123227      0.00266467   0.0044094  \n",
       " 0.00951626   0.00933115   0.00255153     0.00514077   0.00532343 \n",
       " 0.00269044   0.0082193    0.00369024  …  0.00200158   0.00342992 \n",
       " 0.0156567    0.0090636    0.0153444      0.00267019   0.00489784 \n",
       " 0.012526     0.000592208  0.0120734      0.0136279    6.35426e-5 \n",
       " ⋮                                     ⋱                          \n",
       " 0.0028294    0.0135643    0.00905211     0.0128421    0.000199935\n",
       " 0.0147305    0.0053992    0.00925133     0.0155647    0.00280659 \n",
       " 0.00944283   0.00561122   0.0108132   …  0.00582915   0.00936569 \n",
       " 0.00309936   0.00346846   0.0129618      0.000201174  0.0119248  \n",
       " 0.0148894    0.0131408    0.00684658     0.0084508    0.00151482 \n",
       " 0.00565707   0.00330113   0.00891546     0.0103785    0.00969241 \n",
       " 0.000747793  0.0017319    0.00513937     0.00946631   0.00751024 \n",
       " 0.014599     0.00865808   0.00526931  …  0.0139827    0.0131082  \n",
       " 0.00777164   0.00301588   0.0128255      0.000758745  0.0147569  \n",
       " 0.00585449   0.00457827   0.0140312      0.00597906   0.00757429 \n",
       " 7.08212e-5   0.00359112   0.00718563     0.0129231    0.0050172  \n",
       " 0.006232     0.00715339   0.00476949     0.0050172    0.00641014 "
      ]
     },
     "execution_count": 123,
     "metadata": {},
     "output_type": "execute_result"
    }
   ],
   "source": [
    "n=4000\n",
    "M = zeros(n,n)\n",
    "for i in 1:n\n",
    "    for j in i:n\n",
    "        M[i,j] = randn()\n",
    "        M[j,i] = M[i,j]\n",
    "    end\n",
    "end\n",
    "M*(1/sqrt(n))"
   ]
  },
  {
   "cell_type": "code",
   "execution_count": 125,
   "metadata": {
    "collapsed": false
   },
   "outputs": [
    {
     "data": {
      "text/plain": [
       "4000-element Array{Float64,1}:\n",
       "  -36.3939\n",
       "  -36.2978\n",
       "  -36.263 \n",
       "  -36.0634\n",
       "  -35.9401\n",
       "  -35.9125\n",
       "  -35.858 \n",
       "  -35.7647\n",
       "  -35.7454\n",
       "  -35.6606\n",
       "  -35.6255\n",
       "  -35.5656\n",
       "  -35.4338\n",
       "    ⋮     \n",
       "   35.5406\n",
       "   35.6853\n",
       "   35.7583\n",
       "   35.7901\n",
       "   35.8581\n",
       "   35.862 \n",
       "   36.0066\n",
       "   36.0154\n",
       "   36.1411\n",
       "   36.3995\n",
       "   36.4636\n",
       " 2000.33  "
      ]
     },
     "execution_count": 125,
     "metadata": {},
     "output_type": "execute_result"
    }
   ],
   "source": [
    "V = eigvals(M)"
   ]
  },
  {
   "cell_type": "code",
   "execution_count": 130,
   "metadata": {
    "collapsed": false
   },
   "outputs": [
    {
     "data": {
      "image/png": "[encoded data removed]",
      "text/plain": [
       "PyPlot.Figure(PyObject <matplotlib.figure.Figure object at 0x000000003F2BFE48>)"
      ]
     },
     "metadata": {},
     "output_type": "display_data"
    },
    {
     "data": {
      "text/plain": [
       "([4.0,5.0,6.0,6.0,9.0,8.0,9.0,10.0,11.0,11.0  …  10.0,9.0,10.0,10.0,9.0,7.0,7.0,4.0,6.0,3.0],[-36.3939,-36.0277,-35.6616,-35.2955,-34.9294,-34.5633,-34.1971,-33.831,-33.4649,-33.0988  …  33.1685,33.5346,33.9007,34.2669,34.633,34.9991,35.3652,35.7313,36.0974,36.4636],Any[PyObject <matplotlib.patches.Rectangle object at 0x0000000040C91978>,PyObject <matplotlib.patches.Rectangle object at 0x0000000040CAA7B8>,PyObject <matplotlib.patches.Rectangle object at 0x00000000554D5048>,PyObject <matplotlib.patches.Rectangle object at 0x0000000040CE77B8>,PyObject <matplotlib.patches.Rectangle object at 0x0000000040D067B8>,PyObject <matplotlib.patches.Rectangle object at 0x0000000040D2A1D0>,PyObject <matplotlib.patches.Rectangle object at 0x0000000040D417B8>,PyObject <matplotlib.patches.Rectangle object at 0x0000000040D6BB38>,PyObject <matplotlib.patches.Rectangle object at 0x0000000040D841D0>,PyObject <matplotlib.patches.Rectangle object at 0x0000000040DA11D0>  …  PyObject <matplotlib.patches.Rectangle object at 0x0000000052A93400>,PyObject <matplotlib.patches.Rectangle object at 0x0000000052AD5F28>,PyObject <matplotlib.patches.Rectangle object at 0x0000000052B177B8>,PyObject <matplotlib.patches.Rectangle object at 0x0000000052B3D978>,PyObject <matplotlib.patches.Rectangle object at 0x0000000052B85DA0>,PyObject <matplotlib.patches.Rectangle object at 0x0000000052BE0CF8>,PyObject <matplotlib.patches.Rectangle object at 0x0000000052C35BE0>,PyObject <matplotlib.patches.Rectangle object at 0x0000000052C6A0B8>,PyObject <matplotlib.patches.Rectangle object at 0x0000000052CAE240>,PyObject <matplotlib.patches.Rectangle object at 0x0000000052CF0400>])"
      ]
     },
     "execution_count": 130,
     "metadata": {},
     "output_type": "execute_result"
    }
   ],
   "source": [
    "fig = figure()\n",
    "nbins = floor(length(W)/20)\n",
    "grid(\"on\")\n",
    "plt[:hist](W,nbins)"
   ]
  },
  {
   "cell_type": "code",
   "execution_count": null,
   "metadata": {
    "collapsed": true
   },
   "outputs": [],
   "source": [
    "#Sugiere el anterior dibujo algun Teorema."
   ]
  }
 ],
 "metadata": {
  "kernelspec": {
   "display_name": "Julia 0.4.5",
   "language": "julia",
   "name": "julia-0.4"
  },
  "language_info": {
   "file_extension": ".jl",
   "mimetype": "application/julia",
   "name": "julia",
   "version": "0.4.5"
  }
 },
 "nbformat": 4,
 "nbformat_minor": 0
}
