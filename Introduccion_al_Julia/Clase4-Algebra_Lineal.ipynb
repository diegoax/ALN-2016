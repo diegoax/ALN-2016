{
 "cells": [
  {
   "cell_type": "markdown",
   "metadata": {},
   "source": [
    "# Espetro de Matrices Aleatorias"
   ]
  },
  {
   "cell_type": "markdown",
   "metadata": {},
   "source": [
    "## Girko Circular law (ver clase 3)\n",
    "Sea A una matriz nxn con entradas independientes con distribucion normal standard y sea B=A/sqrt(n). Realice un plot de los valores propios"
   ]
  },
  {
   "cell_type": "code",
   "execution_count": 34,
   "metadata": {
    "collapsed": false
   },
   "outputs": [],
   "source": [
    "using Interact"
   ]
  },
  {
   "cell_type": "code",
   "execution_count": 35,
   "metadata": {
    "collapsed": true
   },
   "outputs": [],
   "source": [
    "using Winston"
   ]
  },
  {
   "cell_type": "code",
   "execution_count": 37,
   "metadata": {
    "collapsed": false
   },
   "outputs": [
    {
     "name": "stderr",
     "output_type": "stream",
     "text": [
      "INFO: Cloning cache of IniFile from git://github.com/JuliaIO/IniFile.jl.git\n",
      "INFO: Cloning cache of Tk from git://github.com/JuliaGraphics/Tk.jl.git\n",
      "INFO: Cloning cache of Winston from git://github.com/nolta/Winston.jl.git\n",
      "INFO: Installing IniFile v0.2.5\n",
      "INFO: Installing Tk v0.3.8\n",
      "INFO: Installing Winston v0.11.13\n",
      "INFO: Building Cairo\n",
      "INFO: Building Tk\n",
      "INFO: Package database updated\n",
      "INFO: METADATA is out-of-date — you may not have the latest version of Winston\n",
      "INFO: Use `Pkg.update()` to get the latest versions of your packages\n"
     ]
    }
   ],
   "source": [
    "Pkg.add(\"Winston\")"
   ]
  }
 ],
 "metadata": {
  "kernelspec": {
   "display_name": "Julia 0.4.6-pre",
   "language": "julia",
   "name": "julia-0.4"
  },
  "language_info": {
   "file_extension": ".jl",
   "mimetype": "application/julia",
   "name": "julia",
   "version": "0.4.6"
  }
 },
 "nbformat": 4,
 "nbformat_minor": 0
}
