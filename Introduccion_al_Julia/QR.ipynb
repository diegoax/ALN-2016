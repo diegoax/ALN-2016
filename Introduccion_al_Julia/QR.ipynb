{
 "cells": [
  {
   "cell_type": "markdown",
   "metadata": {},
   "source": [
    "### En este Script se implementan cuatro maneras de calcular la descomposicion de QR\n",
    " Donde Q es ortogonal y R es triangular superior. Se comparan las entradas diagonales\n",
    " de R con los valores propios de una matriz M = UDV^* con U y V ortogonales aleatorias\n",
    " y donde M tiene valores singulares que decrecen exponencialmente.\n",
    "\n",
    "### Los metodos que usamos son:\n",
    "#### 1. Transformaciones de Householder\n",
    "#### 2. Transformaciones de Householder con signo fijo\n",
    "#### 3. Gram-Schmidt clasico\n",
    "#### 4. Gram-Schmidt modificado"
   ]
  },
  {
   "cell_type": "code",
   "execution_count": 1,
   "metadata": {
    "collapsed": false
   },
   "outputs": [
    {
     "data": {
      "text/plain": [
       "reflector (generic function with 1 method)"
      ]
     },
     "execution_count": 1,
     "metadata": {},
     "output_type": "execute_result"
    }
   ],
   "source": [
    "function reflector(V)\n",
    "  I = eye(length(V))\n",
    "  W = V/norm(V)\n",
    "  return I - 2* W * W'\n",
    "end"
   ]
  },
  {
   "cell_type": "code",
   "execution_count": 2,
   "metadata": {
    "collapsed": false
   },
   "outputs": [
    {
     "data": {
      "text/plain": [
       "3x3 Array{Float64,2}:\n",
       "  0.857143  -0.285714  -0.428571\n",
       " -0.285714   0.428571  -0.857143\n",
       " -0.428571  -0.857143  -0.285714"
      ]
     },
     "execution_count": 2,
     "metadata": {},
     "output_type": "execute_result"
    }
   ],
   "source": [
    "V= [1,2,3]\n",
    "R= reflector(V)"
   ]
  },
  {
   "cell_type": "code",
   "execution_count": 3,
   "metadata": {
    "collapsed": false
   },
   "outputs": [
    {
     "name": "stdout",
     "output_type": "stream",
     "text": [
      "[-2.220446049250313e-16,-4.440892098500626e-16,-8.881784197001252e-16]\n",
      "[-1.0000000000000004,0.9999999999999998,0.9999999999999999]\n"
     ]
    },
    {
     "data": {
      "text/plain": [
       "3x3 Array{Float64,2}:\n",
       " 1.0          5.55112e-17  8.32667e-17\n",
       " 5.55112e-17  1.0          1.66533e-16\n",
       " 8.32667e-17  1.66533e-16  1.0        "
      ]
     },
     "execution_count": 3,
     "metadata": {},
     "output_type": "execute_result"
    }
   ],
   "source": [
    "#Tests de la funcion\n",
    "println(R*V+V)\n",
    "det(R)\n",
    "println(eigvals(R))\n",
    "R'* R"
   ]
  },
  {
   "cell_type": "code",
   "execution_count": 4,
   "metadata": {
    "collapsed": false
   },
   "outputs": [
    {
     "data": {
      "text/plain": [
       "houseHold (generic function with 1 method)"
      ]
     },
     "execution_count": 4,
     "metadata": {},
     "output_type": "execute_result"
    }
   ],
   "source": [
    "#Un Paso de Householder\n",
    "function houseHold(Z)\n",
    "    X=Z[:,1]\n",
    "    I = eye(length(X))\n",
    "    W= -sign(X[1])*norm(X)*I[:,1]-X\n",
    "    W = W/norm(W)\n",
    "    ref = reflector(W)\n",
    "    return ref *Z\n",
    "end"
   ]
  },
  {
   "cell_type": "code",
   "execution_count": 5,
   "metadata": {
    "collapsed": false
   },
   "outputs": [
    {
     "data": {
      "text/plain": [
       "houseHoldMala (generic function with 1 method)"
      ]
     },
     "execution_count": 5,
     "metadata": {},
     "output_type": "execute_result"
    }
   ],
   "source": [
    "function houseHoldMala(Z)\n",
    "    X=Z[:,1]\n",
    "    I = eye(length(X))\n",
    "    W= -norm(X)*I[:,1]-X\n",
    "    W = W/norm(W)\n",
    "    ref = reflector(W)\n",
    "    return ref * Z\n",
    "end"
   ]
  },
  {
   "cell_type": "code",
   "execution_count": 6,
   "metadata": {
    "collapsed": false
   },
   "outputs": [
    {
     "data": {
      "text/plain": [
       "fullHousehold (generic function with 1 method)"
      ]
     },
     "execution_count": 6,
     "metadata": {},
     "output_type": "execute_result"
    }
   ],
   "source": [
    "function fullHousehold(Z)\n",
    "  ncols = size(Z)[2]\n",
    "  Result = copy(Z)\n",
    "  for k in 1:ncols\n",
    "      tmp = Result[k:end, k:end]\n",
    "      tmp = houseHold(tmp)\n",
    "      Result[k:end,k:end] = tmp\n",
    "  end\n",
    "  return Result\n",
    "end"
   ]
  },
  {
   "cell_type": "code",
   "execution_count": 7,
   "metadata": {
    "collapsed": false
   },
   "outputs": [
    {
     "data": {
      "text/plain": [
       "fullHouseholdMala (generic function with 1 method)"
      ]
     },
     "execution_count": 7,
     "metadata": {},
     "output_type": "execute_result"
    }
   ],
   "source": [
    "function fullHouseholdMala(Z)\n",
    "  ncols = size(Z)[2]\n",
    "  Result = copy(Z)\n",
    "  for k in 1:ncols\n",
    "      tmp = Result[k:end, k:end]\n",
    "      tmp = houseHoldMala(tmp)\n",
    "      Result[k:end,k:end] = tmp\n",
    "  end\n",
    "  return Result\n",
    "end"
   ]
  },
  {
   "cell_type": "code",
   "execution_count": 8,
   "metadata": {
    "collapsed": false
   },
   "outputs": [
    {
     "data": {
      "text/plain": [
       "gs (generic function with 1 method)"
      ]
     },
     "execution_count": 8,
     "metadata": {},
     "output_type": "execute_result"
    }
   ],
   "source": [
    "#Implementacion de Gram-schidt de Federico y Veronica\n",
    "function gs(D) #C es una matriz cuyas columnas forman una base de R^n\n",
    "    C = copy(D)\n",
    "    n = size(C)[1]\n",
    "    #vectorq =  zeros(n,n)\n",
    "    #vectora = zeros(n,n)\n",
    "    for j in 1:n #j es la columna\n",
    "        #vectora[:,j] = copy(C[:, j])\n",
    "        if (j !=1)\n",
    "            C[:,j] = C[:,j]/norm(C[:,j])\n",
    "\n",
    "            for i in 1: (j-1)\n",
    "                rij = (C[:,i]'*C[:,j])[1]\n",
    "                C[:,j] = C[:,j] - rij*C[:,i]\n",
    "            end\n",
    "\n",
    "        else\n",
    "            #vectorq[:,1] = vectora[:,1]/norm(C[:,1])\n",
    "            C[:,1] = C[:, 1]/norm(C[:,1])\n",
    "        end\n",
    "    end\n",
    "    return(C)\n",
    "end\n"
   ]
  },
  {
   "cell_type": "code",
   "execution_count": 9,
   "metadata": {
    "collapsed": false
   },
   "outputs": [
    {
     "data": {
      "text/plain": [
       "gsm (generic function with 1 method)"
      ]
     },
     "execution_count": 9,
     "metadata": {},
     "output_type": "execute_result"
    }
   ],
   "source": [
    "#asumo que tengo una lista C de vectores que son base\n",
    "#C= diagm([12,2.0,3.0]) #reshape([1,2,3, 9,5,4, 3,4,6], 3,3) #para probar. Cada fila es un vector\n",
    "#n = size(C)[1]\n",
    "function gsm(D)\n",
    "    C = copy(D)\n",
    "    n = size(C)[1]#nro filas de C\n",
    "    for i in 1:n #i es la fila\n",
    "      rii = norm(C[:,i])\n",
    "      C[:,i] = C[:,i]/rii\n",
    "       if i !=n\n",
    "              for j in (i+1):n\n",
    "              rij = C[:,i]'*C[:,j]\n",
    "              C[:,j] = C[:,j] - rij[1]*C[:,i]\n",
    "\n",
    "              end\n",
    "          end\n",
    "      end\n",
    "    return(C)\n",
    "end\n"
   ]
  },
  {
   "cell_type": "code",
   "execution_count": 10,
   "metadata": {
    "collapsed": false
   },
   "outputs": [
    {
     "data": {
      "text/plain": [
       "80x80 Array{Float64,2}:\n",
       " -0.000267192   0.000250526  -0.00341381  …  -0.000544206   0.00279939 \n",
       " -0.000676816   0.000217341   0.00395793     -4.78758e-5    0.000976475\n",
       " -0.00801902    0.00234459    0.014008        0.00333241    0.0017891  \n",
       "  0.00397157   -0.000425933  -0.00470819      0.000345192  -0.00377814 \n",
       " -0.00166054    0.000491335  -0.00225906     -0.000729347   0.00405195 \n",
       "  0.000920872  -4.52521e-5   -0.00227933  …  -0.000150989   0.000216093\n",
       "  0.00750246   -0.00181288   -0.00982405     -0.0018591    -0.00404627 \n",
       "  0.00420931   -0.00114538   -0.00633284     -0.00115231   -0.00280028 \n",
       " -0.00634449    0.00167896    0.00954588      0.0020898     0.00233448 \n",
       "  0.00223511   -0.000270311  -0.0124997      -0.00205863    0.00423678 \n",
       " -0.00709456    0.0016363     0.00802668  …   0.000834685   0.00596428 \n",
       "  0.00769243   -0.00145858   -0.0177608      -0.00217454   -0.00151087 \n",
       " -0.000347014   0.000371233  -0.00636529     -0.00107472    0.0045156  \n",
       "  ⋮                                       ⋱                            \n",
       " -0.00440814    0.00111954    0.0048427       0.00089569    0.00305854 \n",
       "  0.00160206   -0.000742149  -0.00377024     -0.000900161  -0.000870378\n",
       " -0.00149585    0.000532183  -0.0051511   …  -0.00140476    0.00624927 \n",
       "  0.00571788   -0.00251821   -0.00682269     -0.00282472   -0.00314139 \n",
       " -0.00703518    0.00164492    0.00471385      0.000640923   0.0066544  \n",
       " -0.00213287    0.000449226   0.00945487      0.00169949   -0.00276076 \n",
       " -0.000519292  -0.000236329   0.00123545     -0.000514427   0.00054553 \n",
       "  0.00886323   -0.00199786   -0.0202199   …  -0.00348766   -0.000327305\n",
       " -0.00174001    0.000162879   0.00170011     -0.000426026   0.0022253  \n",
       " -0.00493856    0.0010422     0.00722898      0.000411644   0.00443418 \n",
       "  0.00033457    8.27912e-5   -0.00216597     -0.000205604   0.000795603\n",
       "  0.00288434   -0.00111233   -0.00243976     -0.000135204  -0.00447279 "
      ]
     },
     "execution_count": 10,
     "metadata": {},
     "output_type": "execute_result"
    }
   ],
   "source": [
    "#Construimos una matriz aleatoria M cuyos valores singulares decrecen exponencialmente\n",
    "n=80\n",
    "A=randn(n,n)\n",
    "Q,R = qr(A)\n",
    "A=randn(n,n)\n",
    "Q2,R2 = qr(A)\n",
    "V = Array{Float64}([exp(-i) for i in collect(1:n)])\n",
    "D = diagm(V)\n",
    "#M = Array{BigFloat}(Q*D*Q2) #Cambiando el tipo a BigFloat se puede hacer que el Gram-Schmidt modificado sea tan bueno como Householder\n",
    "M = Array{Float64}(Q*D*Q2) "
   ]
  },
  {
   "cell_type": "code",
   "execution_count": 11,
   "metadata": {
    "collapsed": false
   },
   "outputs": [
    {
     "data": {
      "text/plain": [
       "80-element Array{Float64,1}:\n",
       " 0.0419437  \n",
       " 0.00283608 \n",
       " 0.0349051  \n",
       " 0.00150363 \n",
       " 0.00711293 \n",
       " 0.00026951 \n",
       " 0.000854969\n",
       " 7.55211e-5 \n",
       " 6.75293e-5 \n",
       " 5.84055e-6 \n",
       " 1.69345e-5 \n",
       " 9.55626e-7 \n",
       " 2.19758e-6 \n",
       " ⋮          \n",
       " 0.00084437 \n",
       " 0.00718444 \n",
       " 0.00049273 \n",
       " 0.0037231  \n",
       " 0.00468191 \n",
       " 0.000208002\n",
       " 0.000791117\n",
       " 0.00266393 \n",
       " 0.00341057 \n",
       " 0.00236857 \n",
       " 0.00101869 \n",
       " 0.00235567 "
      ]
     },
     "execution_count": 11,
     "metadata": {},
     "output_type": "execute_result"
    }
   ],
   "source": [
    "#Ahora calculamos la descomposicion QR de M de muchas maneras\n",
    "#1. Transformaciones de Householder sin signo\n",
    "R = fullHouseholdMala(M)\n",
    "W = abs(diag(R))\n",
    "#2. Transformaciones de Householder con signo\n",
    "RB = fullHousehold(M)\n",
    "WB = abs(diag(RB))\n",
    "#3. Gram schmidt usual\n",
    "RC = abs(diag(gs(M)'*M))\n",
    "#4. Gram schmidt modificado\n",
    "RD = abs(diag(gsm(M)'*M))\n"
   ]
  },
  {
   "cell_type": "code",
   "execution_count": 12,
   "metadata": {
    "collapsed": true
   },
   "outputs": [],
   "source": [
    "using PyPlot"
   ]
  },
  {
   "cell_type": "code",
   "execution_count": 13,
   "metadata": {
    "collapsed": false
   },
   "outputs": [
    {
     "data": {
      "text/plain": [
       "80-element Array{Float64,1}:\n",
       "  -3.17143\n",
       "  -5.86533\n",
       "  -3.35512\n",
       "  -6.49987\n",
       "  -4.94584\n",
       "  -8.2189 \n",
       "  -7.06444\n",
       "  -9.4911 \n",
       "  -9.60295\n",
       " -12.0507 \n",
       " -10.9862 \n",
       " -13.8609 \n",
       " -13.0282 \n",
       "   ⋮      \n",
       "  -7.07692\n",
       "  -4.93584\n",
       "  -7.61555\n",
       "  -5.5932 \n",
       "  -5.36405\n",
       "  -8.47796\n",
       "  -7.14206\n",
       "  -5.92795\n",
       "  -5.68088\n",
       "  -6.04547\n",
       "  -6.88924\n",
       "  -6.05093"
      ]
     },
     "execution_count": 13,
     "metadata": {},
     "output_type": "execute_result"
    }
   ],
   "source": [
    "k=1 #Queremos ver los valores propios solo a partir del k-esimo\n",
    "B= [i for i in collect(1:n)]\n",
    "B2 = B[k:end]\n",
    "W2 = log(W[k:end])\n",
    "W2B = log(WB[k:end])\n",
    "R2C = log(RC[k:end])\n",
    "R2D = log(RD[k:end])\n"
   ]
  },
  {
   "cell_type": "code",
   "execution_count": 19,
   "metadata": {
    "collapsed": false
   },
   "outputs": [
    {
     "data": {
      "image/png": "[encoded data removed]",
      "text/plain": [
       "PyPlot.Figure(PyObject <matplotlib.figure.Figure object at 0x7efa79253610>)"
      ]
     },
     "metadata": {},
     "output_type": "display_data"
    },
    {
     "data": {
      "text/plain": [
       "1-element Array{Any,1}:\n",
       " PyObject <matplotlib.lines.Line2D object at 0x7efa791af350>"
      ]
     },
     "execution_count": 19,
     "metadata": {},
     "output_type": "execute_result"
    }
   ],
   "source": [
    "plot(B2,W2, \"cyan\") #Householder\n",
    "plot(B2,W2B, \"blue\") #Householder sin ajustar signos\n",
    "plot(B2,R2C, \"green\") #Gram-Schmidt\n",
    "plot(B2,R2D, \"red\") # Gram-Schmidt modificada\n",
    "plot(B2, [-j for j in k:n], \"black\") #Recta alrededor de la que deberian\n",
    "#estar los valores propios\n"
   ]
  },
  {
   "cell_type": "markdown",
   "metadata": {},
   "source": [
    "La grafica indica que en Inestabilidad numerica los metodos son 1=2 < 4 < 3 (ver primer parrafo para explicacion de la numeracion utilizada)."
   ]
  },
  {
   "cell_type": "code",
   "execution_count": null,
   "metadata": {
    "collapsed": true
   },
   "outputs": [],
   "source": []
  }
 ],
 "metadata": {
  "kernelspec": {
   "display_name": "Julia 0.4.6-pre",
   "language": "julia",
   "name": "julia-0.4"
  },
  "language_info": {
   "file_extension": ".jl",
   "mimetype": "application/julia",
   "name": "julia",
   "version": "0.4.6"
  }
 },
 "nbformat": 4,
 "nbformat_minor": 0
}
