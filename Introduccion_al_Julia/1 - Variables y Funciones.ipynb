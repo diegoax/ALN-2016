{
 "cells": [
  {
   "cell_type": "markdown",
   "metadata": {},
   "source": [
    "# Clase 1 : Variables y Funciones"
   ]
  },
  {
   "cell_type": "markdown",
   "metadata": {},
   "source": [
    "Una variable es un nombre al que le asociamos un valor con el propósito de reutilizarlo en el futuro. Toda variable en Julia tiene un tipo y un\n",
    "valor. "
   ]
  },
  {
   "cell_type": "markdown",
   "metadata": {},
   "source": [
    "El tipo de una variable numérica (__Int32__, __Int64__, __Float32__, __Float64__, __BigInt__, __BigFloat__), es importante para poder obtener resultados correctos."
   ]
  },
  {
   "cell_type": "code",
   "execution_count": 2,
   "metadata": {
    "collapsed": false
   },
   "outputs": [
    {
     "data": {
      "text/plain": [
       "2//3"
      ]
     },
     "execution_count": 2,
     "metadata": {},
     "output_type": "execute_result"
    }
   ],
   "source": [
    "x=1.2\n",
    "y=1\n",
    "z=1+7*im\n",
    "w= 2//3"
   ]
  },
  {
   "cell_type": "code",
   "execution_count": 10,
   "metadata": {
    "collapsed": false
   },
   "outputs": [
    {
     "data": {
      "text/plain": [
       "(Float64,Int64,Complex{Int64},Rational{Int64})"
      ]
     },
     "execution_count": 10,
     "metadata": {},
     "output_type": "execute_result"
    }
   ],
   "source": [
    "typeof(x), typeof(y), typeof(z), typeof(w)"
   ]
  },
  {
   "cell_type": "code",
   "execution_count": 2,
   "metadata": {
    "collapsed": false
   },
   "outputs": [
    {
     "data": {
      "text/plain": [
       "64//729"
      ]
     },
     "execution_count": 2,
     "metadata": {},
     "output_type": "execute_result"
    }
   ],
   "source": [
    "w^6"
   ]
  },
  {
   "cell_type": "code",
   "execution_count": 3,
   "metadata": {
    "collapsed": false
   },
   "outputs": [
    {
     "ename": "LoadError",
     "evalue": "LoadError: OverflowError()\nwhile loading In[3], in expression starting on line 1",
     "output_type": "error",
     "traceback": [
      "LoadError: OverflowError()\nwhile loading In[3], in expression starting on line 1",
      "",
      " in factorial_lookup at combinatorics.jl:29",
      " in factorial at combinatorics.jl:37"
     ]
    }
   ],
   "source": [
    "factorial(55)"
   ]
  },
  {
   "cell_type": "code",
   "execution_count": 4,
   "metadata": {
    "collapsed": false
   },
   "outputs": [
    {
     "data": {
      "text/plain": [
       "Nuestro_factorial (generic function with 1 method)"
      ]
     },
     "execution_count": 4,
     "metadata": {},
     "output_type": "execute_result"
    }
   ],
   "source": [
    "function Nuestro_factorial(n)\n",
    "    Res = BigInt(1)\n",
    "    for k in 1:n\n",
    "        Res = Res * k\n",
    "    end\n",
    "    return Res\n",
    "end\n"
   ]
  },
  {
   "cell_type": "code",
   "execution_count": 5,
   "metadata": {
    "collapsed": false
   },
   "outputs": [
    {
     "data": {
      "text/plain": [
       "93326215443944152681699238856266700490715968264381621468592963895217599993229915608941463976156518286253697920827223758251185210916864000000000000000000000000"
      ]
     },
     "execution_count": 5,
     "metadata": {},
     "output_type": "execute_result"
    }
   ],
   "source": [
    "Nuestro_factorial(100)"
   ]
  },
  {
   "cell_type": "code",
   "execution_count": 6,
   "metadata": {
    "collapsed": false
   },
   "outputs": [
    {
     "data": {
      "text/plain": [
       "Nuestro_factorial2 (generic function with 1 method)"
      ]
     },
     "execution_count": 6,
     "metadata": {},
     "output_type": "execute_result"
    }
   ],
   "source": [
    "function Nuestro_factorial2(n)\n",
    "    if n<=1 return BigInt(1) end\n",
    "    return n*Nuestro_factorial2(n-1)\n",
    "end\n"
   ]
  },
  {
   "cell_type": "code",
   "execution_count": 7,
   "metadata": {
    "collapsed": false
   },
   "outputs": [
    {
     "data": {
      "text/plain": [
       "93326215443944152681699238856266700490715968264381621468592963895217599993229915608941463976156518286253697920827223758251185210916864000000000000000000000000"
      ]
     },
     "execution_count": 7,
     "metadata": {},
     "output_type": "execute_result"
    }
   ],
   "source": [
    "Nuestro_factorial2(100)"
   ]
  },
  {
   "cell_type": "code",
   "execution_count": 8,
   "metadata": {
    "collapsed": false
   },
   "outputs": [
    {
     "data": {
      "text/plain": [
       "g (generic function with 1 method)"
      ]
     },
     "execution_count": 8,
     "metadata": {},
     "output_type": "execute_result"
    }
   ],
   "source": [
    "g(n) = n<1 ? BigInt(1) : g(n-1)*n"
   ]
  },
  {
   "cell_type": "code",
   "execution_count": 9,
   "metadata": {
    "collapsed": false
   },
   "outputs": [
    {
     "data": {
      "text/plain": [
       "93326215443944152681699238856266700490715968264381621468592963895217599993229915608941463976156518286253697920827223758251185210916864000000000000000000000000"
      ]
     },
     "execution_count": 9,
     "metadata": {},
     "output_type": "execute_result"
    }
   ],
   "source": [
    "g(100)"
   ]
  },
  {
   "cell_type": "code",
   "execution_count": 10,
   "metadata": {
    "collapsed": false
   },
   "outputs": [
    {
     "data": {
      "text/plain": [
       "h (generic function with 1 method)"
      ]
     },
     "execution_count": 10,
     "metadata": {},
     "output_type": "execute_result"
    }
   ],
   "source": [
    "h(n) = prod([k for k in BigInt(1):n])"
   ]
  },
  {
   "cell_type": "code",
   "execution_count": 11,
   "metadata": {
    "collapsed": false
   },
   "outputs": [
    {
     "data": {
      "text/plain": [
       "93326215443944152681699238856266700490715968264381621468592963895217599993229915608941463976156518286253697920827223758251185210916864000000000000000000000000"
      ]
     },
     "execution_count": 11,
     "metadata": {},
     "output_type": "execute_result"
    }
   ],
   "source": [
    "h(100)"
   ]
  },
  {
   "cell_type": "code",
   "execution_count": 12,
   "metadata": {
    "collapsed": false
   },
   "outputs": [
    {
     "data": {
      "text/plain": [
       "100-element Array{Int64,1}:\n",
       "     1\n",
       "     4\n",
       "     9\n",
       "    16\n",
       "    25\n",
       "    36\n",
       "    49\n",
       "    64\n",
       "    81\n",
       "   100\n",
       "   121\n",
       "   144\n",
       "   169\n",
       "     ⋮\n",
       "  7921\n",
       "  8100\n",
       "  8281\n",
       "  8464\n",
       "  8649\n",
       "  8836\n",
       "  9025\n",
       "  9216\n",
       "  9409\n",
       "  9604\n",
       "  9801\n",
       " 10000"
      ]
     },
     "execution_count": 12,
     "metadata": {},
     "output_type": "execute_result"
    }
   ],
   "source": [
    "J = [j for j in 1:100]\n",
    "map((x) -> x^2,J)"
   ]
  },
  {
   "cell_type": "code",
   "execution_count": 13,
   "metadata": {
    "collapsed": false
   },
   "outputs": [
    {
     "name": "stdout",
     "output_type": "stream",
     "text": [
      "search: map map! mapfoldr mapfoldl mapslices mapreduce mapreducedim pmap mmap\n",
      "\n"
     ]
    },
    {
     "data": {
      "text/markdown": [
       "```\n",
       "map(f, c...) -> collection\n",
       "```\n",
       "\n",
       "Transform collection `c` by applying `f` to each element. For multiple collection arguments, apply `f` elementwise.\n",
       "\n",
       "```jldoctest\n",
       "julia> map((x) -> x * 2, [1, 2, 3])\n",
       "3-element Array{Int64,1}:\n",
       " 2\n",
       " 4\n",
       " 6\n",
       "\n",
       "julia> map(+, [1, 2, 3], [10, 20, 30])\n",
       "3-element Array{Int64,1}:\n",
       " 11\n",
       " 22\n",
       " 33\n",
       "```\n"
      ],
      "text/plain": [
       "```\n",
       "map(f, c...) -> collection\n",
       "```\n",
       "\n",
       "Transform collection `c` by applying `f` to each element. For multiple collection arguments, apply `f` elementwise.\n",
       "\n",
       "```jldoctest\n",
       "julia> map((x) -> x * 2, [1, 2, 3])\n",
       "3-element Array{Int64,1}:\n",
       " 2\n",
       " 4\n",
       " 6\n",
       "\n",
       "julia> map(+, [1, 2, 3], [10, 20, 30])\n",
       "3-element Array{Int64,1}:\n",
       " 11\n",
       " 22\n",
       " 33\n",
       "```\n"
      ]
     },
     "execution_count": 13,
     "metadata": {},
     "output_type": "execute_result"
    }
   ],
   "source": [
    "?map\n"
   ]
  },
  {
   "cell_type": "code",
   "execution_count": 14,
   "metadata": {
    "collapsed": false
   },
   "outputs": [
    {
     "data": {
      "text/plain": [
       "5x4 Array{Int64,2}:\n",
       "  2   3   4   5\n",
       "  5   6   7   8\n",
       " 10  11  12  13\n",
       " 17  18  19  20\n",
       " 26  27  28  29"
      ]
     },
     "execution_count": 14,
     "metadata": {},
     "output_type": "execute_result"
    }
   ],
   "source": [
    "[ i^2+ j for i in 1:5, j in 1:4]"
   ]
  },
  {
   "cell_type": "code",
   "execution_count": 15,
   "metadata": {
    "collapsed": false
   },
   "outputs": [
    {
     "data": {
      "text/plain": [
       "1.365542638746309922340352215130108835426311908456398214184446260333061218261719e-17"
      ]
     },
     "execution_count": 15,
     "metadata": {},
     "output_type": "execute_result"
    }
   ],
   "source": [
    "alpha = prod([j for j in BigInt(91):100])/(BigInt(2)^(100)*factorial(10))"
   ]
  },
  {
   "cell_type": "code",
   "execution_count": 16,
   "metadata": {
    "collapsed": false
   },
   "outputs": [
    {
     "data": {
      "text/plain": [
       "logFact (generic function with 1 method)"
      ]
     },
     "execution_count": 16,
     "metadata": {},
     "output_type": "execute_result"
    }
   ],
   "source": [
    "function logFact(n::Int64)\n",
    "    Res = 0\n",
    "    for k in 1:n\n",
    "        Res += log(k)\n",
    "    end\n",
    "    return Res\n",
    "end\n"
   ]
  },
  {
   "cell_type": "code",
   "execution_count": 17,
   "metadata": {
    "collapsed": false
   },
   "outputs": [
    {
     "data": {
      "text/plain": [
       "1.3655426387463477e-17"
      ]
     },
     "execution_count": 17,
     "metadata": {},
     "output_type": "execute_result"
    }
   ],
   "source": [
    "beta = logFact(100)-(logFact(90)+logFact(10)+100*log(2))\n",
    "alpha2=exp(beta)"
   ]
  },
  {
   "cell_type": "code",
   "execution_count": 18,
   "metadata": {
    "collapsed": false
   },
   "outputs": [
    {
     "data": {
      "text/plain": [
       "-3.774822690998982271989716767466457544334679230502160862670280039310455322265625e-31"
      ]
     },
     "execution_count": 18,
     "metadata": {},
     "output_type": "execute_result"
    }
   ],
   "source": [
    "alpha-alpha2"
   ]
  },
  {
   "cell_type": "code",
   "execution_count": 19,
   "metadata": {
    "collapsed": false
   },
   "outputs": [],
   "source": [
    "using PyPlot"
   ]
  },
  {
   "cell_type": "code",
   "execution_count": 20,
   "metadata": {
    "collapsed": false
   },
   "outputs": [
    {
     "data": {
      "text/plain": [
       "logFactorial (generic function with 1 method)"
      ]
     },
     "execution_count": 20,
     "metadata": {},
     "output_type": "execute_result"
    }
   ],
   "source": [
    "#We compute the binomial probabilities form scratch\n",
    "p=0.5\n",
    "\n",
    "function logFactorial(m::Int64)\n",
    "  res = 0\n",
    "  for k in 1:m\n",
    "    res = res + log(k)\n",
    "  end\n",
    "  return res\n",
    "end\n"
   ]
  },
  {
   "cell_type": "code",
   "execution_count": 21,
   "metadata": {
    "collapsed": false
   },
   "outputs": [
    {
     "data": {
      "text/plain": [
       "binomialProbability (generic function with 1 method)"
      ]
     },
     "execution_count": 21,
     "metadata": {},
     "output_type": "execute_result"
    }
   ],
   "source": [
    "function binomialProbability(k,N;prob = 0.5)\n",
    "#returns the binomial probability of exactly k successes with probability p on N trials\n",
    "#Keyworded arguments\n",
    "  N < 0 ? error(\"ERROR: Numero de intentos no puede ser positivo\") :\n",
    "  0 > k ? error(\"ERROR: k no puede ser negativo\") :\n",
    "  k > N ? error(\"ERROR: k debe ser menor o igual a N\") :\n",
    "  intermediateRes = logFactorial(N)+(k*log(prob)+(N-k)*log(1-prob))-(logFactorial(N-k)+logFactorial(k))\n",
    "  return exp(intermediateRes)\n",
    "end"
   ]
  },
  {
   "cell_type": "code",
   "execution_count": 22,
   "metadata": {
    "collapsed": false
   },
   "outputs": [
    {
     "data": {
      "text/plain": [
       "100"
      ]
     },
     "execution_count": 22,
     "metadata": {},
     "output_type": "execute_result"
    }
   ],
   "source": [
    "binomialProbability(2,10)\n",
    "N=100"
   ]
  },
  {
   "cell_type": "code",
   "execution_count": 23,
   "metadata": {
    "collapsed": false
   },
   "outputs": [
    {
     "name": "stdout",
     "output_type": "stream",
     "text": [
      "0.00 0.00 0.00 0.00 0.00 0.00 0.00 0.00 0.00 0.00 0.00 0.00 0.00 0.00 0.00 0.00 0.00 0.00 0.00 0.00 0.01 0.01 0.02 0.03 0.04 0.05 0.06 0.07 0.08 0.09 0.09 0.08 0.08 0.07 0.06 0.05 0.04 0.03 0.02 0.01 0.01 0.01 0.00 0.00 0.00 0.00 0.00 0.00 0.00 0.00 0.00 0.00 0.00 0.00 0.00 0.00 0.00 0.00 0.00 0.00 0.00 0.00 0.00 0.00 0.00 0.00 0.00 0.00 0.00 0.00 0.00 0.00 0.00 0.00 0.00 0.00 0.00 0.00 0.00 0.00 0.00 0.00 0.00 0.00 0.00 0.00 0.00 0.00 0.00 0.00 0.00 0.00 0.00 0.00 0.00 0.00 0.00 0.00 0.00 0.00 0.00 "
     ]
    },
    {
     "data": {
      "text/plain": [
       "1.0000000000000722"
      ]
     },
     "execution_count": 23,
     "metadata": {},
     "output_type": "execute_result"
    }
   ],
   "source": [
    "Prueba  = map((j)->binomialProbability(j,N,prob=0.3),0:N)\n",
    "#How to show a fixed number of significant digits?\n",
    "for prob in Prueba\n",
    "  @printf \"%.2f \" prob\n",
    "end\n",
    "sum(Prueba)"
   ]
  },
  {
   "cell_type": "code",
   "execution_count": 24,
   "metadata": {
    "collapsed": false
   },
   "outputs": [
    {
     "data": {
      "text/plain": [
       "PyPlot.Figure(PyObject <matplotlib.figure.Figure object at 0x7f07b5405e50>)"
      ]
     },
     "execution_count": 24,
     "metadata": {},
     "output_type": "execute_result"
    }
   ],
   "source": [
    "#Por ultimo hacemos un dibujo de lo que hemos hecho hasta ahora\n",
    "using PyPlot\n",
    "x = [0:1:N;]\n",
    "y = Prueba\n",
    "fig = figure(\"pyplot_barplot\",figsize=(10,10))"
   ]
  },
  {
   "cell_type": "code",
   "execution_count": 25,
   "metadata": {
    "collapsed": false,
    "scrolled": true
   },
   "outputs": [
    {
     "data": {
      "image/png": "[encoded data removed]",
      "text/plain": [
       "PyPlot.Figure(PyObject <matplotlib.figure.Figure object at 0x7f07b5399450>)"
      ]
     },
     "metadata": {},
     "output_type": "display_data"
    },
    {
     "data": {
      "text/plain": [
       "(PyObject <matplotlib.patches.Rectangle object at 0x7f07b52bf710>,PyObject <matplotlib.patches.Rectangle object at 0x7f07b52bfdd0>,PyObject <matplotlib.patches.Rectangle object at 0x7f07b5250490>,PyObject <matplotlib.patches.Rectangle object at 0x7f07b5250b10>,PyObject <matplotlib.patches.Rectangle object at 0x7f07b525f1d0>,PyObject <matplotlib.patches.Rectangle object at 0x7f07b525f850>,PyObject <matplotlib.patches.Rectangle object at 0x7f07b525fed0>,PyObject <matplotlib.patches.Rectangle object at 0x7f07b526b590>,PyObject <matplotlib.patches.Rectangle object at 0x7f07b526bc10>,PyObject <matplotlib.patches.Rectangle object at 0x7f07b52782d0>,PyObject <matplotlib.patches.Rectangle object at 0x7f07b5278950>,PyObject <matplotlib.patches.Rectangle object at 0x7f07b5278fd0>,PyObject <matplotlib.patches.Rectangle object at 0x7f07b5286690>,PyObject <matplotlib.patches.Rectangle object at 0x7f07b5286d10>,PyObject <matplotlib.patches.Rectangle object at 0x7f07b52143d0>,PyObject <matplotlib.patches.Rectangle object at 0x7f07b5214a50>,PyObject <matplotlib.patches.Rectangle object at 0x7f07b5214f50>,PyObject <matplotlib.patches.Rectangle object at 0x7f07b5220790>,PyObject <matplotlib.patches.Rectangle object at 0x7f07b5220e10>,PyObject <matplotlib.patches.Rectangle object at 0x7f07b522f4d0>,PyObject <matplotlib.patches.Rectangle object at 0x7f07b522fb50>,PyObject <matplotlib.patches.Rectangle object at 0x7f07b523d210>,PyObject <matplotlib.patches.Rectangle object at 0x7f07b523d890>,PyObject <matplotlib.patches.Rectangle object at 0x7f07b523df10>,PyObject <matplotlib.patches.Rectangle object at 0x7f07b52495d0>,PyObject <matplotlib.patches.Rectangle object at 0x7f07b5249c50>,PyObject <matplotlib.patches.Rectangle object at 0x7f07b5196310>,PyObject <matplotlib.patches.Rectangle object at 0x7f07b5196990>,PyObject <matplotlib.patches.Rectangle object at 0x7f07b5196e90>,PyObject <matplotlib.patches.Rectangle object at 0x7f07b51a46d0>,PyObject <matplotlib.patches.Rectangle object at 0x7f07b5333c90>,PyObject <matplotlib.patches.Rectangle object at 0x7f07b53abed0>,PyObject <matplotlib.patches.Rectangle object at 0x7f07b5319f10>,PyObject <matplotlib.patches.Rectangle object at 0x7f07b5319310>,PyObject <matplotlib.patches.Rectangle object at 0x7f07b53bdfd0>,PyObject <matplotlib.patches.Rectangle object at 0x7f07b51b4290>,PyObject <matplotlib.patches.Rectangle object at 0x7f07b51b4910>,PyObject <matplotlib.patches.Rectangle object at 0x7f07b51b4f90>,PyObject <matplotlib.patches.Rectangle object at 0x7f07b51c3650>,PyObject <matplotlib.patches.Rectangle object at 0x7f07b51c3cd0>,PyObject <matplotlib.patches.Rectangle object at 0x7f07b5152390>,PyObject <matplotlib.patches.Rectangle object at 0x7f07b5152a10>,PyObject <matplotlib.patches.Rectangle object at 0x7f07b5152f10>,PyObject <matplotlib.patches.Rectangle object at 0x7f07b515e750>,PyObject <matplotlib.patches.Rectangle object at 0x7f07b515edd0>,PyObject <matplotlib.patches.Rectangle object at 0x7f07b516b490>,PyObject <matplotlib.patches.Rectangle object at 0x7f07b516bb10>,PyObject <matplotlib.patches.Rectangle object at 0x7f07b51781d0>,PyObject <matplotlib.patches.Rectangle object at 0x7f07b5178850>,PyObject <matplotlib.patches.Rectangle object at 0x7f07b5178ed0>,PyObject <matplotlib.patches.Rectangle object at 0x7f07b5187590>,PyObject <matplotlib.patches.Rectangle object at 0x7f07b5187c10>,PyObject <matplotlib.patches.Rectangle object at 0x7f07b4e812d0>,PyObject <matplotlib.patches.Rectangle object at 0x7f07b4e81950>,PyObject <matplotlib.patches.Rectangle object at 0x7f07b4e81fd0>,PyObject <matplotlib.patches.Rectangle object at 0x7f07b4e91690>,PyObject <matplotlib.patches.Rectangle object at 0x7f07b4e91d10>,PyObject <matplotlib.patches.Rectangle object at 0x7f07b4e9f3d0>,PyObject <matplotlib.patches.Rectangle object at 0x7f07b4e9fa50>,PyObject <matplotlib.patches.Rectangle object at 0x7f07b4e9ff50>,PyObject <matplotlib.patches.Rectangle object at 0x7f07b4ead790>,PyObject <matplotlib.patches.Rectangle object at 0x7f07b4eade10>,PyObject <matplotlib.patches.Rectangle object at 0x7f07b4eba4d0>,PyObject <matplotlib.patches.Rectangle object at 0x7f07b4ebab50>,PyObject <matplotlib.patches.Rectangle object at 0x7f07b4e46210>,PyObject <matplotlib.patches.Rectangle object at 0x7f07b4e46890>,PyObject <matplotlib.patches.Rectangle object at 0x7f07b4e46f10>,PyObject <matplotlib.patches.Rectangle object at 0x7f07b4e555d0>,PyObject <matplotlib.patches.Rectangle object at 0x7f07b4e55c50>,PyObject <matplotlib.patches.Rectangle object at 0x7f07b4e61310>,PyObject <matplotlib.patches.Rectangle object at 0x7f07b4e61990>,PyObject <matplotlib.patches.Rectangle object at 0x7f07b4e61e90>,PyObject <matplotlib.patches.Rectangle object at 0x7f07b4e6e6d0>,PyObject <matplotlib.patches.Rectangle object at 0x7f07b4e6ed50>,PyObject <matplotlib.patches.Rectangle object at 0x7f07b4e7d410>,PyObject <matplotlib.patches.Rectangle object at 0x7f07b4e7da90>,PyObject <matplotlib.patches.Rectangle object at 0x7f07b4e7df90>,PyObject <matplotlib.patches.Rectangle object at 0x7f07b4e097d0>,PyObject <matplotlib.patches.Rectangle object at 0x7f07b4e09e50>,PyObject <matplotlib.patches.Rectangle object at 0x7f07b4e17510>,PyObject <matplotlib.patches.Rectangle object at 0x7f07b4e17b90>,PyObject <matplotlib.patches.Rectangle object at 0x7f07b4e23250>,PyObject <matplotlib.patches.Rectangle object at 0x7f07b4e238d0>,PyObject <matplotlib.patches.Rectangle object at 0x7f07b4e23f50>,PyObject <matplotlib.patches.Rectangle object at 0x7f07b4e31610>,PyObject <matplotlib.patches.Rectangle object at 0x7f07b4e31c90>,PyObject <matplotlib.patches.Rectangle object at 0x7f07b4e3e350>,PyObject <matplotlib.patches.Rectangle object at 0x7f07b4e3e9d0>,PyObject <matplotlib.patches.Rectangle object at 0x7f07b4e3eed0>,PyObject <matplotlib.patches.Rectangle object at 0x7f07b4dcb710>,PyObject <matplotlib.patches.Rectangle object at 0x7f07b4dcbd90>,PyObject <matplotlib.patches.Rectangle object at 0x7f07b4dd9450>,PyObject <matplotlib.patches.Rectangle object at 0x7f07b4dd9ad0>,PyObject <matplotlib.patches.Rectangle object at 0x7f07b4dd9fd0>,PyObject <matplotlib.patches.Rectangle object at 0x7f07b4de7810>,PyObject <matplotlib.patches.Rectangle object at 0x7f07b4de7e90>,PyObject <matplotlib.patches.Rectangle object at 0x7f07b4df4550>,PyObject <matplotlib.patches.Rectangle object at 0x7f07b4df4bd0>,PyObject <matplotlib.patches.Rectangle object at 0x7f07b4d81290>,PyObject <matplotlib.patches.Rectangle object at 0x7f07b4d81910>,PyObject <matplotlib.patches.Rectangle object at 0x7f07b4d81f90>)"
      ]
     },
     "execution_count": 25,
     "metadata": {},
     "output_type": "execute_result"
    }
   ],
   "source": [
    "b = bar(x,y,color=\"#0f87bf\",align=\"center\",alpha=0.4)"
   ]
  },
  {
   "cell_type": "code",
   "execution_count": 26,
   "metadata": {
    "collapsed": false
   },
   "outputs": [
    {
     "data": {
      "image/png": "[encoded data removed]",
      "text/plain": [
       "PyPlot.Figure(PyObject <matplotlib.figure.Figure object at 0x7f07b4d6ed10>)"
      ]
     },
     "metadata": {},
     "output_type": "display_data"
    },
    {
     "data": {
      "text/plain": [
       "(PyObject <matplotlib.patches.Rectangle object at 0x7f07b4ca5810>,PyObject <matplotlib.patches.Rectangle object at 0x7f07b4ca5b10>,PyObject <matplotlib.patches.Rectangle object at 0x7f07b4ca5f10>,PyObject <matplotlib.patches.Rectangle object at 0x7f07b4cb35d0>,PyObject <matplotlib.patches.Rectangle object at 0x7f07b4cb3c50>,PyObject <matplotlib.patches.Rectangle object at 0x7f07b4cbf310>,PyObject <matplotlib.patches.Rectangle object at 0x7f07b4cbf990>,PyObject <matplotlib.patches.Rectangle object at 0x7f07b4cbfe90>,PyObject <matplotlib.patches.Rectangle object at 0x7f07b4c4d6d0>,PyObject <matplotlib.patches.Rectangle object at 0x7f07b4c4dd50>,PyObject <matplotlib.patches.Rectangle object at 0x7f07b4c5b410>,PyObject <matplotlib.patches.Rectangle object at 0x7f07b4c5ba90>,PyObject <matplotlib.patches.Rectangle object at 0x7f07b4c5bf90>,PyObject <matplotlib.patches.Rectangle object at 0x7f07b4c667d0>,PyObject <matplotlib.patches.Rectangle object at 0x7f07b4c66e50>,PyObject <matplotlib.patches.Rectangle object at 0x7f07b4c73510>,PyObject <matplotlib.patches.Rectangle object at 0x7f07b4c73b90>,PyObject <matplotlib.patches.Rectangle object at 0x7f07b4c02250>,PyObject <matplotlib.patches.Rectangle object at 0x7f07b4c028d0>,PyObject <matplotlib.patches.Rectangle object at 0x7f07b4c02f50>,PyObject <matplotlib.patches.Rectangle object at 0x7f07b4c0f610>,PyObject <matplotlib.patches.Rectangle object at 0x7f07b4c0fc90>,PyObject <matplotlib.patches.Rectangle object at 0x7f07b4c1c350>,PyObject <matplotlib.patches.Rectangle object at 0x7f07b4c1c9d0>,PyObject <matplotlib.patches.Rectangle object at 0x7f07b4c1ced0>,PyObject <matplotlib.patches.Rectangle object at 0x7f07b4c28710>,PyObject <matplotlib.patches.Rectangle object at 0x7f07b4c28d90>,PyObject <matplotlib.patches.Rectangle object at 0x7f07b4c36450>,PyObject <matplotlib.patches.Rectangle object at 0x7f07b4c36ad0>,PyObject <matplotlib.patches.Rectangle object at 0x7f07b4c36fd0>,PyObject <matplotlib.patches.Rectangle object at 0x7f07b4bc3810>,PyObject <matplotlib.patches.Rectangle object at 0x7f07b4bc3e90>,PyObject <matplotlib.patches.Rectangle object at 0x7f07b4bcf550>,PyObject <matplotlib.patches.Rectangle object at 0x7f07b4bcfbd0>,PyObject <matplotlib.patches.Rectangle object at 0x7f07b4bdd290>,PyObject <matplotlib.patches.Rectangle object at 0x7f07b4bdd910>,PyObject <matplotlib.patches.Rectangle object at 0x7f07b4bddf90>,PyObject <matplotlib.patches.Rectangle object at 0x7f07b5178fd0>,PyObject <matplotlib.patches.Rectangle object at 0x7f07b4e46990>,PyObject <matplotlib.patches.Rectangle object at 0x7f07b4cc0e50>,PyObject <matplotlib.patches.Rectangle object at 0x7f07b4beb790>,PyObject <matplotlib.patches.Rectangle object at 0x7f07b4bebe10>,PyObject <matplotlib.patches.Rectangle object at 0x7f07b4bfc4d0>,PyObject <matplotlib.patches.Rectangle object at 0x7f07b4bfcb50>,PyObject <matplotlib.patches.Rectangle object at 0x7f07b4b8a210>,PyObject <matplotlib.patches.Rectangle object at 0x7f07b4b8a890>,PyObject <matplotlib.patches.Rectangle object at 0x7f07b4b8af10>,PyObject <matplotlib.patches.Rectangle object at 0x7f07b4b975d0>,PyObject <matplotlib.patches.Rectangle object at 0x7f07b4b97c50>,PyObject <matplotlib.patches.Rectangle object at 0x7f07b4ba4310>,PyObject <matplotlib.patches.Rectangle object at 0x7f07b4ba4990>,PyObject <matplotlib.patches.Rectangle object at 0x7f07b4ba4e90>,PyObject <matplotlib.patches.Rectangle object at 0x7f07b4bb26d0>,PyObject <matplotlib.patches.Rectangle object at 0x7f07b4bb2d50>,PyObject <matplotlib.patches.Rectangle object at 0x7f07b4bbf410>,PyObject <matplotlib.patches.Rectangle object at 0x7f07b4bbfa90>,PyObject <matplotlib.patches.Rectangle object at 0x7f07b4bbff90>,PyObject <matplotlib.patches.Rectangle object at 0x7f07b2b637d0>,PyObject <matplotlib.patches.Rectangle object at 0x7f07b2b63e50>,PyObject <matplotlib.patches.Rectangle object at 0x7f07b2b70510>,PyObject <matplotlib.patches.Rectangle object at 0x7f07b2b70b90>,PyObject <matplotlib.patches.Rectangle object at 0x7f07b2b80250>,PyObject <matplotlib.patches.Rectangle object at 0x7f07b2b808d0>,PyObject <matplotlib.patches.Rectangle object at 0x7f07b2b80f50>,PyObject <matplotlib.patches.Rectangle object at 0x7f07b2b8d610>,PyObject <matplotlib.patches.Rectangle object at 0x7f07b2b8dc90>,PyObject <matplotlib.patches.Rectangle object at 0x7f07b2b19350>,PyObject <matplotlib.patches.Rectangle object at 0x7f07b2b199d0>,PyObject <matplotlib.patches.Rectangle object at 0x7f07b2b19ed0>,PyObject <matplotlib.patches.Rectangle object at 0x7f07b2b27710>,PyObject <matplotlib.patches.Rectangle object at 0x7f07b2b27d90>,PyObject <matplotlib.patches.Rectangle object at 0x7f07b2b34450>,PyObject <matplotlib.patches.Rectangle object at 0x7f07b2b34ad0>,PyObject <matplotlib.patches.Rectangle object at 0x7f07b2b34fd0>,PyObject <matplotlib.patches.Rectangle object at 0x7f07b2b42810>,PyObject <matplotlib.patches.Rectangle object at 0x7f07b2b42e90>,PyObject <matplotlib.patches.Rectangle object at 0x7f07b2b4e550>,PyObject <matplotlib.patches.Rectangle object at 0x7f07b2b4ebd0>,PyObject <matplotlib.patches.Rectangle object at 0x7f07b2adc290>,PyObject <matplotlib.patches.Rectangle object at 0x7f07b2adc910>,PyObject <matplotlib.patches.Rectangle object at 0x7f07b2adcf90>,PyObject <matplotlib.patches.Rectangle object at 0x7f07b2aea650>,PyObject <matplotlib.patches.Rectangle object at 0x7f07b2aeacd0>,PyObject <matplotlib.patches.Rectangle object at 0x7f07b2af6390>,PyObject <matplotlib.patches.Rectangle object at 0x7f07b2af6a10>,PyObject <matplotlib.patches.Rectangle object at 0x7f07b2af6f10>,PyObject <matplotlib.patches.Rectangle object at 0x7f07b2b04750>,PyObject <matplotlib.patches.Rectangle object at 0x7f07b2b04dd0>,PyObject <matplotlib.patches.Rectangle object at 0x7f07b2b10490>,PyObject <matplotlib.patches.Rectangle object at 0x7f07b2b10b10>,PyObject <matplotlib.patches.Rectangle object at 0x7f07b2a9f1d0>,PyObject <matplotlib.patches.Rectangle object at 0x7f07b2a9f850>,PyObject <matplotlib.patches.Rectangle object at 0x7f07b2a9fed0>,PyObject <matplotlib.patches.Rectangle object at 0x7f07b2aad590>,PyObject <matplotlib.patches.Rectangle object at 0x7f07b2aadc10>,PyObject <matplotlib.patches.Rectangle object at 0x7f07b2ab92d0>,PyObject <matplotlib.patches.Rectangle object at 0x7f07b2ab9950>,PyObject <matplotlib.patches.Rectangle object at 0x7f07b2ab9fd0>,PyObject <matplotlib.patches.Rectangle object at 0x7f07b2ac7690>,PyObject <matplotlib.patches.Rectangle object at 0x7f07b2ac7d10>,PyObject <matplotlib.patches.Rectangle object at 0x7f07b2ad43d0>)"
      ]
     },
     "execution_count": 26,
     "metadata": {},
     "output_type": "execute_result"
    }
   ],
   "source": [
    "axis(\"tight\")\n",
    "title(\"Vertical Bar Plot\")\n",
    "grid(\"on\")\n",
    "xlabel(\"X\")\n",
    "ylabel(\"Y\")\n",
    "prob=0.6\n",
    "Prueba2  = map((j)->binomialProbability(j,N,prob=prob),0:N)\n",
    "b = bar(x,Prueba2,color=\"red\",align=\"center\",alpha=0.4)"
   ]
  },
  {
   "cell_type": "code",
   "execution_count": 27,
   "metadata": {
    "collapsed": false
   },
   "outputs": [
    {
     "data": {
      "image/png": "[encoded data removed]",
      "text/plain": [
       "PyPlot.Figure(PyObject <matplotlib.figure.Figure object at 0x7f07b2a18b90>)"
      ]
     },
     "metadata": {},
     "output_type": "display_data"
    },
    {
     "data": {
      "text/plain": [
       "1-element Array{Any,1}:\n",
       " PyObject <matplotlib.lines.Line2D object at 0x7f07b29a8190>"
      ]
     },
     "execution_count": 27,
     "metadata": {},
     "output_type": "execute_result"
    }
   ],
   "source": [
    "b = bar(x,Prueba2,color=\"red\",align=\"center\",alpha=0.4)\n",
    "#Comparemos con la distribucion normal, y veamos pyplot\n",
    "mu=N*prob\n",
    "sigmasq = N *prob*(1-prob)\n",
    "normalDist = (x) -> exp(-(x-mu)^2/(2*sigmasq))*(1/sqrt(2pi*sigmasq))\n",
    "xHighRes = [0:0.05:N;]\n",
    "Ys = map(normalDist,xHighRes)\n",
    "plot(xHighRes,Ys)\n",
    "\n",
    "\n",
    "#Luego hacemos una simulacion de como deberia comportarse una moneda y comparamos."
   ]
  },
  {
   "cell_type": "code",
   "execution_count": 31,
   "metadata": {
    "collapsed": false
   },
   "outputs": [
    {
     "data": {
      "image/png": "[encoded data removed]",
      "text/plain": [
       "PyPlot.Figure(PyObject <matplotlib.figure.Figure object at 0x7f07b2679ad0>)"
      ]
     },
     "metadata": {},
     "output_type": "display_data"
    },
    {
     "data": {
      "text/plain": [
       "(PyObject <matplotlib.patches.Rectangle object at 0x7f07b1bc24d0>,PyObject <matplotlib.patches.Rectangle object at 0x7f07b1bc2b90>,PyObject <matplotlib.patches.Rectangle object at 0x7f07b1bd1250>,PyObject <matplotlib.patches.Rectangle object at 0x7f07b1bd18d0>,PyObject <matplotlib.patches.Rectangle object at 0x7f07b1bd1f50>,PyObject <matplotlib.patches.Rectangle object at 0x7f07b1b5e610>,PyObject <matplotlib.patches.Rectangle object at 0x7f07b1b5ec90>,PyObject <matplotlib.patches.Rectangle object at 0x7f07b1b6b350>,PyObject <matplotlib.patches.Rectangle object at 0x7f07b1b6b9d0>,PyObject <matplotlib.patches.Rectangle object at 0x7f07b1b6bed0>,PyObject <matplotlib.patches.Rectangle object at 0x7f07b1b77710>,PyObject <matplotlib.patches.Rectangle object at 0x7f07b1b77d90>,PyObject <matplotlib.patches.Rectangle object at 0x7f07b1b85450>,PyObject <matplotlib.patches.Rectangle object at 0x7f07b1b85ad0>,PyObject <matplotlib.patches.Rectangle object at 0x7f07b1b85fd0>,PyObject <matplotlib.patches.Rectangle object at 0x7f07b1b94810>,PyObject <matplotlib.patches.Rectangle object at 0x7f07b1b94e90>,PyObject <matplotlib.patches.Rectangle object at 0x7f07b1b1f550>,PyObject <matplotlib.patches.Rectangle object at 0x7f07b1b1fbd0>,PyObject <matplotlib.patches.Rectangle object at 0x7f07b1b2e290>,PyObject <matplotlib.patches.Rectangle object at 0x7f07b1b2e910>,PyObject <matplotlib.patches.Rectangle object at 0x7f07b1b2ef90>,PyObject <matplotlib.patches.Rectangle object at 0x7f07b1b3b650>,PyObject <matplotlib.patches.Rectangle object at 0x7f07b1b3bcd0>,PyObject <matplotlib.patches.Rectangle object at 0x7f07b1b48390>,PyObject <matplotlib.patches.Rectangle object at 0x7f07b1b48a10>,PyObject <matplotlib.patches.Rectangle object at 0x7f07b1b48f10>,PyObject <matplotlib.patches.Rectangle object at 0x7f07b1b56750>,PyObject <matplotlib.patches.Rectangle object at 0x7f07b1b56dd0>,PyObject <matplotlib.patches.Rectangle object at 0x7f07b1ae3490>,PyObject <matplotlib.patches.Rectangle object at 0x7f07b1ae3b10>,PyObject <matplotlib.patches.Rectangle object at 0x7f07b1af21d0>,PyObject <matplotlib.patches.Rectangle object at 0x7f07b1af2850>,PyObject <matplotlib.patches.Rectangle object at 0x7f07b1af2ed0>,PyObject <matplotlib.patches.Rectangle object at 0x7f07b1afe590>,PyObject <matplotlib.patches.Rectangle object at 0x7f07b1afec10>,PyObject <matplotlib.patches.Rectangle object at 0x7f07b1b0b2d0>,PyObject <matplotlib.patches.Rectangle object at 0x7f07b1b0b950>,PyObject <matplotlib.patches.Rectangle object at 0x7f07b1b0bfd0>,PyObject <matplotlib.patches.Rectangle object at 0x7f07b1a99690>,PyObject <matplotlib.patches.Rectangle object at 0x7f07b1a99d10>,PyObject <matplotlib.patches.Rectangle object at 0x7f07b1aa83d0>,PyObject <matplotlib.patches.Rectangle object at 0x7f07b1aa8a50>,PyObject <matplotlib.patches.Rectangle object at 0x7f07b1aa8f50>,PyObject <matplotlib.patches.Rectangle object at 0x7f07b1ab4790>,PyObject <matplotlib.patches.Rectangle object at 0x7f07b1ab4e10>,PyObject <matplotlib.patches.Rectangle object at 0x7f07b1ac14d0>,PyObject <matplotlib.patches.Rectangle object at 0x7f07b1ac1b50>,PyObject <matplotlib.patches.Rectangle object at 0x7f07b1acf210>,PyObject <matplotlib.patches.Rectangle object at 0x7f07b1acf890>,PyObject <matplotlib.patches.Rectangle object at 0x7f07b1acff10>,PyObject <matplotlib.patches.Rectangle object at 0x7f07b1a5c5d0>,PyObject <matplotlib.patches.Rectangle object at 0x7f07b1a5cc50>,PyObject <matplotlib.patches.Rectangle object at 0x7f07b1a69310>,PyObject <matplotlib.patches.Rectangle object at 0x7f07b1a69990>,PyObject <matplotlib.patches.Rectangle object at 0x7f07b1a69e90>,PyObject <matplotlib.patches.Rectangle object at 0x7f07b1a766d0>,PyObject <matplotlib.patches.Rectangle object at 0x7f07b1a76d50>,PyObject <matplotlib.patches.Rectangle object at 0x7f07b1a83410>,PyObject <matplotlib.patches.Rectangle object at 0x7f07b1a83a90>,PyObject <matplotlib.patches.Rectangle object at 0x7f07b1a83f90>,PyObject <matplotlib.patches.Rectangle object at 0x7f07b2484c10>,PyObject <matplotlib.patches.Rectangle object at 0x7f07b1e7cd10>,PyObject <matplotlib.patches.Rectangle object at 0x7f07b1e72690>,PyObject <matplotlib.patches.Rectangle object at 0x7f07b1ecb210>,PyObject <matplotlib.patches.Rectangle object at 0x7f07b29ded50>,PyObject <matplotlib.patches.Rectangle object at 0x7f07b26c5e10>,PyObject <matplotlib.patches.Rectangle object at 0x7f07b1a92d10>,PyObject <matplotlib.patches.Rectangle object at 0x7f07b1a223d0>,PyObject <matplotlib.patches.Rectangle object at 0x7f07b1a22a50>,PyObject <matplotlib.patches.Rectangle object at 0x7f07b1a22f50>,PyObject <matplotlib.patches.Rectangle object at 0x7f07b1a2e790>,PyObject <matplotlib.patches.Rectangle object at 0x7f07b1a2ee10>,PyObject <matplotlib.patches.Rectangle object at 0x7f07b1a3a4d0>,PyObject <matplotlib.patches.Rectangle object at 0x7f07b1a3ab50>,PyObject <matplotlib.patches.Rectangle object at 0x7f07b1a47210>,PyObject <matplotlib.patches.Rectangle object at 0x7f07b1a47890>,PyObject <matplotlib.patches.Rectangle object at 0x7f07b1a47f10>,PyObject <matplotlib.patches.Rectangle object at 0x7f07b1a555d0>,PyObject <matplotlib.patches.Rectangle object at 0x7f07b1a55c50>,PyObject <matplotlib.patches.Rectangle object at 0x7f07b19e3310>,PyObject <matplotlib.patches.Rectangle object at 0x7f07b19e3990>,PyObject <matplotlib.patches.Rectangle object at 0x7f07b19e3e90>,PyObject <matplotlib.patches.Rectangle object at 0x7f07b19ef6d0>,PyObject <matplotlib.patches.Rectangle object at 0x7f07b19efd50>,PyObject <matplotlib.patches.Rectangle object at 0x7f07b19fe410>,PyObject <matplotlib.patches.Rectangle object at 0x7f07b19fea90>,PyObject <matplotlib.patches.Rectangle object at 0x7f07b19fef90>,PyObject <matplotlib.patches.Rectangle object at 0x7f07b1a0a7d0>,PyObject <matplotlib.patches.Rectangle object at 0x7f07b1a0ae50>,PyObject <matplotlib.patches.Rectangle object at 0x7f07b1999510>,PyObject <matplotlib.patches.Rectangle object at 0x7f07b1999b90>,PyObject <matplotlib.patches.Rectangle object at 0x7f07b19a4250>,PyObject <matplotlib.patches.Rectangle object at 0x7f07b19a48d0>,PyObject <matplotlib.patches.Rectangle object at 0x7f07b19a4f50>,PyObject <matplotlib.patches.Rectangle object at 0x7f07b19b1610>,PyObject <matplotlib.patches.Rectangle object at 0x7f07b19b1c90>,PyObject <matplotlib.patches.Rectangle object at 0x7f07b19c1350>,PyObject <matplotlib.patches.Rectangle object at 0x7f07b19c19d0>,PyObject <matplotlib.patches.Rectangle object at 0x7f07b19c1ed0>,PyObject <matplotlib.patches.Rectangle object at 0x7f07b19cb710>)"
      ]
     },
     "execution_count": 31,
     "metadata": {},
     "output_type": "execute_result"
    }
   ],
   "source": [
    "#Comparación de los histogramas\n",
    "plot(xHighRes,Ys)\n",
    "b = bar(x,Prueba2,color=\"red\",align=\"center\",alpha=0.4)\n",
    "b = bar(x,y,color=\"#0f87bf\",align=\"center\",alpha=0.4)"
   ]
  }
 ],
 "metadata": {
  "kernelspec": {
   "display_name": "Julia 0.4.6-pre",
   "language": "julia",
   "name": "julia-0.4"
  },
  "language_info": {
   "file_extension": ".jl",
   "mimetype": "application/julia",
   "name": "julia",
   "version": "0.4.6"
  }
 },
 "nbformat": 4,
 "nbformat_minor": 0
}
