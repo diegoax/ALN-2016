{
 "cells": [
  {
   "cell_type": "code",
   "execution_count": 1,
   "metadata": {
    "collapsed": false
   },
   "outputs": [
    {
     "data": {
      "text/plain": [
       "2//3"
      ]
     },
     "execution_count": 1,
     "metadata": {},
     "output_type": "execute_result"
    }
   ],
   "source": [
    "x=1.2\n",
    "y=1\n",
    "z=1+7*im\n",
    "w= 2//3"
   ]
  },
  {
   "cell_type": "code",
   "execution_count": 2,
   "metadata": {
    "collapsed": false
   },
   "outputs": [
    {
     "data": {
      "text/plain": [
       "64//729"
      ]
     },
     "execution_count": 2,
     "metadata": {},
     "output_type": "execute_result"
    }
   ],
   "source": [
    "w^6"
   ]
  },
  {
   "cell_type": "code",
   "execution_count": 3,
   "metadata": {
    "collapsed": false
   },
   "outputs": [
    {
     "ename": "LoadError",
     "evalue": "LoadError: OverflowError()\nwhile loading In[3], in expression starting on line 1",
     "output_type": "error",
     "traceback": [
      "LoadError: OverflowError()\nwhile loading In[3], in expression starting on line 1",
      "",
      " in factorial_lookup at combinatorics.jl:29",
      " in factorial at combinatorics.jl:37"
     ]
    }
   ],
   "source": [
    "factorial(55)"
   ]
  },
  {
   "cell_type": "code",
   "execution_count": 4,
   "metadata": {
    "collapsed": false
   },
   "outputs": [
    {
     "data": {
      "text/plain": [
       "Nuestro_factorial (generic function with 1 method)"
      ]
     },
     "execution_count": 4,
     "metadata": {},
     "output_type": "execute_result"
    }
   ],
   "source": [
    "function Nuestro_factorial(n)\n",
    "    Res = BigInt(1)\n",
    "    for k in 1:n\n",
    "        Res = Res * k\n",
    "    end\n",
    "    return Res\n",
    "end\n"
   ]
  },
  {
   "cell_type": "code",
   "execution_count": 5,
   "metadata": {
    "collapsed": false
   },
   "outputs": [
    {
     "data": {
      "text/plain": [
       "93326215443944152681699238856266700490715968264381621468592963895217599993229915608941463976156518286253697920827223758251185210916864000000000000000000000000"
      ]
     },
     "execution_count": 5,
     "metadata": {},
     "output_type": "execute_result"
    }
   ],
   "source": [
    "Nuestro_factorial(100)"
   ]
  },
  {
   "cell_type": "code",
   "execution_count": 9,
   "metadata": {
    "collapsed": false
   },
   "outputs": [
    {
     "data": {
      "text/plain": [
       "Nuestro_factorial2 (generic function with 1 method)"
      ]
     },
     "execution_count": 9,
     "metadata": {},
     "output_type": "execute_result"
    }
   ],
   "source": [
    "function Nuestro_factorial2(n)\n",
    "    if n<=1 return BigInt(1) end\n",
    "    return n*Nuestro_factorial2(n-1)\n",
    "end\n"
   ]
  },
  {
   "cell_type": "code",
   "execution_count": 10,
   "metadata": {
    "collapsed": false
   },
   "outputs": [
    {
     "data": {
      "text/plain": [
       "93326215443944152681699238856266700490715968264381621468592963895217599993229915608941463976156518286253697920827223758251185210916864000000000000000000000000"
      ]
     },
     "execution_count": 10,
     "metadata": {},
     "output_type": "execute_result"
    }
   ],
   "source": [
    "Nuestro_factorial2(100)"
   ]
  },
  {
   "cell_type": "code",
   "execution_count": 15,
   "metadata": {
    "collapsed": false
   },
   "outputs": [
    {
     "data": {
      "text/plain": [
       "g (generic function with 1 method)"
      ]
     },
     "execution_count": 15,
     "metadata": {},
     "output_type": "execute_result"
    }
   ],
   "source": [
    "g(n) = n<1 ? BigInt(1) : g(n-1)*n"
   ]
  },
  {
   "cell_type": "code",
   "execution_count": 16,
   "metadata": {
    "collapsed": false
   },
   "outputs": [
    {
     "data": {
      "text/plain": [
       "93326215443944152681699238856266700490715968264381621468592963895217599993229915608941463976156518286253697920827223758251185210916864000000000000000000000000"
      ]
     },
     "execution_count": 16,
     "metadata": {},
     "output_type": "execute_result"
    }
   ],
   "source": [
    "g(100)"
   ]
  },
  {
   "cell_type": "code",
   "execution_count": 26,
   "metadata": {
    "collapsed": false
   },
   "outputs": [
    {
     "data": {
      "text/plain": [
       "h (generic function with 1 method)"
      ]
     },
     "execution_count": 26,
     "metadata": {},
     "output_type": "execute_result"
    }
   ],
   "source": [
    "h(n) = prod([k for k in BigInt(1):n])"
   ]
  },
  {
   "cell_type": "code",
   "execution_count": 28,
   "metadata": {
    "collapsed": false
   },
   "outputs": [
    {
     "data": {
      "text/plain": [
       "93326215443944152681699238856266700490715968264381621468592963895217599993229915608941463976156518286253697920827223758251185210916864000000000000000000000000"
      ]
     },
     "execution_count": 28,
     "metadata": {},
     "output_type": "execute_result"
    }
   ],
   "source": [
    "h(100)"
   ]
  },
  {
   "cell_type": "code",
   "execution_count": 32,
   "metadata": {
    "collapsed": false
   },
   "outputs": [
    {
     "data": {
      "text/plain": [
       "100-element Array{Int64,1}:\n",
       "     1\n",
       "     4\n",
       "     9\n",
       "    16\n",
       "    25\n",
       "    36\n",
       "    49\n",
       "    64\n",
       "    81\n",
       "   100\n",
       "   121\n",
       "   144\n",
       "   169\n",
       "     ⋮\n",
       "  7921\n",
       "  8100\n",
       "  8281\n",
       "  8464\n",
       "  8649\n",
       "  8836\n",
       "  9025\n",
       "  9216\n",
       "  9409\n",
       "  9604\n",
       "  9801\n",
       " 10000"
      ]
     },
     "execution_count": 32,
     "metadata": {},
     "output_type": "execute_result"
    }
   ],
   "source": [
    "J = [j for j in 1:100]\n",
    "map((x) -> x^2,J)"
   ]
  },
  {
   "cell_type": "code",
   "execution_count": 33,
   "metadata": {
    "collapsed": false
   },
   "outputs": [
    {
     "name": "stdout",
     "output_type": "stream",
     "text": [
      "search: map map! mapfoldr mapfoldl mapslices mapreduce mapreducedim pmap mmap\n",
      "\n"
     ]
    },
    {
     "data": {
      "text/latex": [
       "\\begin{verbatim}\n",
       "map(f, c...) -> collection\n",
       "\\end{verbatim}\n",
       "Transform collection \\texttt{c} by applying \\texttt{f} to each element. For multiple collection arguments, apply \\texttt{f} elementwise.\n",
       "\\begin{verbatim}\n",
       "julia> map((x) -> x * 2, [1, 2, 3])\n",
       "3-element Array{Int64,1}:\n",
       " 2\n",
       " 4\n",
       " 6\n",
       "\n",
       "julia> map(+, [1, 2, 3], [10, 20, 30])\n",
       "3-element Array{Int64,1}:\n",
       " 11\n",
       " 22\n",
       " 33\n",
       "\\end{verbatim}\n"
      ],
      "text/markdown": [
       "```\n",
       "map(f, c...) -> collection\n",
       "```\n",
       "\n",
       "Transform collection `c` by applying `f` to each element. For multiple collection arguments, apply `f` elementwise.\n",
       "\n",
       "```jldoctest\n",
       "julia> map((x) -> x * 2, [1, 2, 3])\n",
       "3-element Array{Int64,1}:\n",
       " 2\n",
       " 4\n",
       " 6\n",
       "\n",
       "julia> map(+, [1, 2, 3], [10, 20, 30])\n",
       "3-element Array{Int64,1}:\n",
       " 11\n",
       " 22\n",
       " 33\n",
       "```\n"
      ],
      "text/plain": [
       "```\n",
       "map(f, c...) -> collection\n",
       "```\n",
       "\n",
       "Transform collection `c` by applying `f` to each element. For multiple collection arguments, apply `f` elementwise.\n",
       "\n",
       "```jldoctest\n",
       "julia> map((x) -> x * 2, [1, 2, 3])\n",
       "3-element Array{Int64,1}:\n",
       " 2\n",
       " 4\n",
       " 6\n",
       "\n",
       "julia> map(+, [1, 2, 3], [10, 20, 30])\n",
       "3-element Array{Int64,1}:\n",
       " 11\n",
       " 22\n",
       " 33\n",
       "```\n"
      ]
     },
     "execution_count": 33,
     "metadata": {},
     "output_type": "execute_result"
    }
   ],
   "source": [
    "?map\n"
   ]
  },
  {
   "cell_type": "code",
   "execution_count": 36,
   "metadata": {
    "collapsed": false
   },
   "outputs": [
    {
     "data": {
      "text/plain": [
       "5x4 Array{Int64,2}:\n",
       "  2   3   4   5\n",
       "  5   6   7   8\n",
       " 10  11  12  13\n",
       " 17  18  19  20\n",
       " 26  27  28  29"
      ]
     },
     "execution_count": 36,
     "metadata": {},
     "output_type": "execute_result"
    }
   ],
   "source": [
    "[ i^2+ j for i in 1:5, j in 1:4]"
   ]
  },
  {
   "cell_type": "code",
   "execution_count": 41,
   "metadata": {
    "collapsed": false
   },
   "outputs": [
    {
     "data": {
      "text/plain": [
       "1.365542638746309922340352215130108835426311908456398214184446260333061218261719e-17"
      ]
     },
     "execution_count": 41,
     "metadata": {},
     "output_type": "execute_result"
    }
   ],
   "source": [
    "alpha = prod([j for j in BigInt(91):100])/(BigInt(2)^(100)*factorial(10))"
   ]
  },
  {
   "cell_type": "code",
   "execution_count": 43,
   "metadata": {
    "collapsed": false
   },
   "outputs": [
    {
     "data": {
      "text/plain": [
       "logFact (generic function with 1 method)"
      ]
     },
     "execution_count": 43,
     "metadata": {},
     "output_type": "execute_result"
    }
   ],
   "source": [
    "function logFact(n::Int64)\n",
    "    Res = 0\n",
    "    for k in 1:n\n",
    "        Res += log(k)\n",
    "    end\n",
    "    return Res\n",
    "end\n"
   ]
  },
  {
   "cell_type": "code",
   "execution_count": 45,
   "metadata": {
    "collapsed": false
   },
   "outputs": [
    {
     "data": {
      "text/plain": [
       "1.3655426387463477e-17"
      ]
     },
     "execution_count": 45,
     "metadata": {},
     "output_type": "execute_result"
    }
   ],
   "source": [
    "beta = logFact(100)-(logFact(90)+logFact(10)+100*log(2))\n",
    "alpha2=exp(beta)"
   ]
  },
  {
   "cell_type": "code",
   "execution_count": 46,
   "metadata": {
    "collapsed": false
   },
   "outputs": [
    {
     "data": {
      "text/plain": [
       "-3.774822690998982271989716767466457544334679230502160862670280039310455322265625e-31"
      ]
     },
     "execution_count": 46,
     "metadata": {},
     "output_type": "execute_result"
    }
   ],
   "source": [
    "alpha-alpha2"
   ]
  },
  {
   "cell_type": "code",
   "execution_count": 47,
   "metadata": {
    "collapsed": false
   },
   "outputs": [
    {
     "name": "stderr",
     "output_type": "stream",
     "text": [
      "INFO: Recompiling stale cache file /home/juser/.julia/lib/v0.4/PyPlot.ji for module PyPlot.\n",
      "INFO: Recompiling stale cache file /home/juser/.julia/lib/v0.4/PyCall.ji for module PyCall.\n",
      "INFO: Recompiling stale cache file /opt/julia_packages/.julia/lib/v0.4/Conda.ji for module Conda.\n",
      "INFO: Recompiling stale cache file /opt/julia_packages/.julia/lib/v0.4/BinDeps.ji for module BinDeps.\n",
      "INFO: Recompiling stale cache file /opt/julia_packages/.julia/lib/v0.4/URIParser.ji for module URIParser.\n",
      "WARNING: Module Compat uuid did not match cache file\n",
      "  This is likely because module Compat does not support  precompilation but is imported by a module that does.\n",
      "WARNING: deserialization checks failed while attempting to load cache from /opt/julia_packages/.julia/lib/v0.4/URIParser.ji\n",
      "INFO: Recompiling stale cache file /opt/julia_packages/.julia/lib/v0.4/SHA.ji for module SHA.\n",
      "WARNING: Module Compat uuid did not match cache file\n",
      "  This is likely because module Compat does not support  precompilation but is imported by a module that does.\n",
      "WARNING: deserialization checks failed while attempting to load cache from /opt/julia_packages/.julia/lib/v0.4/SHA.ji\n",
      "WARNING: Module Compat uuid did not match cache file\n",
      "  This is likely because module Compat does not support  precompilation but is imported by a module that does.\n",
      "WARNING: deserialization checks failed while attempting to load cache from /opt/julia_packages/.julia/lib/v0.4/BinDeps.ji\n",
      "WARNING: Module Compat uuid did not match cache file\n",
      "  This is likely because module Compat does not support  precompilation but is imported by a module that does.\n",
      "WARNING: deserialization checks failed while attempting to load cache from /opt/julia_packages/.julia/lib/v0.4/Conda.ji\n",
      "INFO: Recompiling stale cache file /home/juser/.julia/lib/v0.4/MacroTools.ji for module MacroTools.\n",
      "INFO: Recompiling stale cache file /home/juser/.julia/lib/v0.4/Colors.ji for module Colors.\n",
      "INFO: Recompiling stale cache file /home/juser/.julia/lib/v0.4/FixedPointNumbers.ji for module FixedPointNumbers.\n",
      "INFO: Recompiling stale cache file /home/juser/.julia/lib/v0.4/ColorTypes.ji for module ColorTypes.\n",
      "INFO: Recompiling stale cache file /home/juser/.julia/lib/v0.4/Reexport.ji for module Reexport.\n",
      "INFO: Recompiling stale cache file /home/juser/.julia/lib/v0.4/LaTeXStrings.ji for module LaTeXStrings.\n"
     ]
    }
   ],
   "source": [
    "using PyPlot"
   ]
  },
  {
   "cell_type": "code",
   "execution_count": 48,
   "metadata": {
    "collapsed": false
   },
   "outputs": [
    {
     "name": "stderr",
     "output_type": "stream",
     "text": [
      "INFO: Nothing to be done\n",
      "INFO: METADATA is out-of-date — you may not have the latest version of PyPlot\n",
      "INFO: Use `Pkg.update()` to get the latest versions of your packages\n"
     ]
    }
   ],
   "source": [
    "Pkg.add(\"PyPlot\")"
   ]
  },
  {
   "cell_type": "code",
   "execution_count": 49,
   "metadata": {
    "collapsed": false
   },
   "outputs": [
    {
     "name": "stderr",
     "output_type": "stream",
     "text": [
      "INFO: Updating METADATA...\n",
      "INFO: Updating cache of Polynomials...\n",
      "INFO: Updating cache of ColorTypes...\n",
      "INFO: Updating cache of Lazy...\n",
      "INFO: Updating cache of SCS...\n",
      "INFO: Updating cache of BinDeps...\n",
      "INFO: Updating cache of StatsBase...\n",
      "INFO: Updating cache of MacroTools...\n",
      "INFO: Updating cache of URIParser...\n",
      "INFO: Updating cache of Distributions...\n",
      "INFO: Updating cache of ForwardDiff...\n",
      "INFO: Updating cache of Conda...\n",
      "INFO: Updating cache of FixedPointNumbers...\n",
      "INFO: Updating cache of Compat...\n",
      "INFO: Updating cache of SHA...\n",
      "INFO: Updating cache of PyPlot...\n",
      "INFO: Updating cache of JuMP...\n",
      "INFO: Updating cache of StatsFuns...\n",
      "INFO: Updating cache of Colors...\n",
      "INFO: Updating cache of DataStructures...\n",
      "INFO: Updating cache of ReverseDiffSparse...\n",
      "INFO: Updating cache of PyCall...\n",
      "INFO: Updating cache of MathProgBase...\n",
      "INFO: Updating cache of LaTeXStrings...\n",
      "INFO: Computing changes...\n",
      "INFO: Cloning cache of Rmath from git://github.com/JuliaStats/Rmath.jl.git\n",
      "INFO: Upgrading BinDeps: v0.3.21 => v0.4.2\n",
      "INFO: Upgrading ColorTypes: v0.2.3 => v0.2.5\n",
      "INFO: Upgrading Colors: v0.6.5 => v0.6.6\n",
      "INFO: Upgrading Compat: v0.8.4 => v0.8.6\n",
      "INFO: Upgrading Conda: v0.2.2 => v0.2.3\n",
      "INFO: Upgrading DataStructures: v0.4.4 => v0.4.5\n",
      "INFO: Upgrading Distributions: v0.9.0 => v0.10.2\n",
      "INFO: Upgrading FixedPointNumbers: v0.1.3 => v0.1.4\n",
      "INFO: Upgrading ForwardDiff: v0.1.8 => v0.2.2\n",
      "INFO: Upgrading Iterators: v0.1.9 => v0.1.10\n",
      "INFO: Upgrading JuMP: v0.13.2 => v0.14.0\n",
      "INFO: Upgrading LaTeXStrings: v0.1.6 => v0.2.0\n",
      "INFO: Upgrading Lazy: v0.10.1 => v0.11.0\n",
      "INFO: Upgrading MacroTools: v0.3.0 => v0.3.2\n",
      "INFO: Upgrading MathProgBase: v0.5.1 => v0.5.3\n",
      "INFO: Upgrading Polynomials: v0.0.5 => v0.0.6\n",
      "INFO: Upgrading PyCall: v1.6.3 => v1.7.0\n",
      "INFO: Upgrading PyPlot: v2.2.0 => v2.2.1\n",
      "INFO: Upgrading ReverseDiffSparse: v0.5.6 => v0.5.8\n",
      "INFO: Installing Rmath v0.1.2\n",
      "INFO: Upgrading SCS: v0.2.4 => v0.2.5\n",
      "INFO: Upgrading SHA: v0.1.2 => v0.2.1\n",
      "INFO: Upgrading StatsBase: v0.8.3 => v0.9.0\n",
      "INFO: Upgrading StatsFuns: v0.2.2 => v0.3.0\n",
      "INFO: Upgrading URIParser: v0.1.5 => v0.1.6\n",
      "INFO: Building Rmath\n",
      "INFO: Recompiling stale cache file /home/juser/.julia/lib/v0.4/BinDeps.ji for module BinDeps.\n",
      "INFO: Recompiling stale cache file /home/juser/.julia/lib/v0.4/Compat.ji for module Compat.\n",
      "INFO: Recompiling stale cache file /home/juser/.julia/lib/v0.4/URIParser.ji for module URIParser.\n",
      "INFO: Recompiling stale cache file /home/juser/.julia/lib/v0.4/SHA.ji for module SHA.\n",
      "INFO: Building PyCall\n",
      "INFO: Recompiling stale cache file /home/juser/.julia/lib/v0.4/Conda.ji for module Conda.\n",
      "INFO: Recompiling stale cache file /home/juser/.julia/lib/v0.4/JSON.ji for module JSON.\n",
      "INFO: PyCall is using /usr/bin/python (Python 2.7.6) at /usr/bin/python, libpython = libpython2.7\n",
      "INFO: Building SCS\n"
     ]
    }
   ],
   "source": [
    "Pkg.update()"
   ]
  },
  {
   "cell_type": "code",
   "execution_count": 2,
   "metadata": {
    "collapsed": false
   },
   "outputs": [
    {
     "data": {
      "text/plain": [
       "logFactorial (generic function with 1 method)"
      ]
     },
     "execution_count": 2,
     "metadata": {},
     "output_type": "execute_result"
    }
   ],
   "source": [
    "#We compute the binomial probabilities form scratch\n",
    "p=0.5\n",
    "\n",
    "function logFactorial(m::Int64)\n",
    "  res = 0\n",
    "  for k in 1:m\n",
    "    res = res + log(k)\n",
    "  end\n",
    "  return res\n",
    "end\n"
   ]
  },
  {
   "cell_type": "code",
   "execution_count": 3,
   "metadata": {
    "collapsed": false
   },
   "outputs": [
    {
     "data": {
      "text/plain": [
       "binomialProbability (generic function with 1 method)"
      ]
     },
     "execution_count": 3,
     "metadata": {},
     "output_type": "execute_result"
    }
   ],
   "source": [
    "function binomialProbability(k,N;prob = 0.5)\n",
    "#returns the binomial probability of exactly k successes with probability p on N trials\n",
    "#Keyworded arguments\n",
    "  N < 0 ? error(\"ERROR: Numero de intentos no puede ser positivo\") :\n",
    "  0 > k ? error(\"ERROR: k no puede ser negativo\") :\n",
    "  k > N ? error(\"ERROR: k debe ser menor o igual a N\") :\n",
    "  intermediateRes = logFactorial(N)+(k*log(prob)+(N-k)*log(1-prob))-(logFactorial(N-k)+logFactorial(k))\n",
    "  return exp(intermediateRes)\n",
    "end"
   ]
  },
  {
   "cell_type": "code",
   "execution_count": 4,
   "metadata": {
    "collapsed": false
   },
   "outputs": [
    {
     "data": {
      "text/plain": [
       "100"
      ]
     },
     "execution_count": 4,
     "metadata": {},
     "output_type": "execute_result"
    }
   ],
   "source": [
    "binomialProbability(2,10)\n",
    "N=100"
   ]
  },
  {
   "cell_type": "code",
   "execution_count": 5,
   "metadata": {
    "collapsed": false
   },
   "outputs": [
    {
     "name": "stdout",
     "output_type": "stream",
     "text": [
      "0.00 0.00 0.00 0.00 0.00 0.00 0.00 0.00 0.00 0.00 0.00 0.00 0.00 0.00 0.00 0.00 0.00 0.00 0.00 0.00 0.01 0.01 0.02 0.03 0.04 0.05 0.06 0.07 0.08 0.09 0.09 0.08 0.08 0.07 0.06 0.05 0.04 0.03 0.02 0.01 0.01 0.01 0.00 0.00 0.00 0.00 0.00 0.00 0.00 0.00 0.00 0.00 0.00 0.00 0.00 0.00 0.00 0.00 0.00 0.00 0.00 0.00 0.00 0.00 0.00 0.00 0.00 0.00 0.00 0.00 0.00 0.00 0.00 0.00 0.00 0.00 0.00 0.00 0.00 0.00 0.00 0.00 0.00 0.00 0.00 0.00 0.00 0.00 0.00 0.00 0.00 0.00 0.00 0.00 0.00 0.00 0.00 0.00 0.00 0.00 0.00 "
     ]
    },
    {
     "data": {
      "text/plain": [
       "1.0000000000000722"
      ]
     },
     "execution_count": 5,
     "metadata": {},
     "output_type": "execute_result"
    }
   ],
   "source": [
    "Prueba  = map((j)->binomialProbability(j,N,prob=0.3),0:N)\n",
    "#How to show a fixed number of significant digits?\n",
    "for prob in Prueba\n",
    "  @printf \"%.2f \" prob\n",
    "end\n",
    "sum(Prueba)"
   ]
  },
  {
   "cell_type": "code",
   "execution_count": 6,
   "metadata": {
    "collapsed": false
   },
   "outputs": [
    {
     "data": {
      "text/plain": [
       "PyPlot.Figure(PyObject <matplotlib.figure.Figure object at 0x7f4f9a893810>)"
      ]
     },
     "execution_count": 6,
     "metadata": {},
     "output_type": "execute_result"
    }
   ],
   "source": [
    "#Por ultimo hacemos un dibujo de lo que hemos hecho hasta ahora\n",
    "using PyPlot\n",
    "x = [0:1:N;]\n",
    "y = Prueba\n",
    "fig = figure(\"pyplot_barplot\",figsize=(10,10))"
   ]
  },
  {
   "cell_type": "code",
   "execution_count": 7,
   "metadata": {
    "collapsed": false
   },
   "outputs": [
    {
     "data": {
      "image/png": "[encoded data removed]",
      "text/plain": [
       "PyPlot.Figure(PyObject <matplotlib.figure.Figure object at 0x7f4f9a3db490>)"
      ]
     },
     "metadata": {},
     "output_type": "display_data"
    },
    {
     "data": {
      "text/plain": [
       "(PyObject <matplotlib.patches.Rectangle object at 0x7f4f9a248110>,PyObject <matplotlib.patches.Rectangle object at 0x7f4f9a248750>,PyObject <matplotlib.patches.Rectangle object at 0x7f4f9a248dd0>,PyObject <matplotlib.patches.Rectangle object at 0x7f4f9a259490>,PyObject <matplotlib.patches.Rectangle object at 0x7f4f9a259b10>,PyObject <matplotlib.patches.Rectangle object at 0x7f4f9a2641d0>,PyObject <matplotlib.patches.Rectangle object at 0x7f4f9a264850>,PyObject <matplotlib.patches.Rectangle object at 0x7f4f9a264ed0>,PyObject <matplotlib.patches.Rectangle object at 0x7f4f9a270590>,PyObject <matplotlib.patches.Rectangle object at 0x7f4f9a270c10>,PyObject <matplotlib.patches.Rectangle object at 0x7f4f9a1fe2d0>,PyObject <matplotlib.patches.Rectangle object at 0x7f4f9a1fe950>,PyObject <matplotlib.patches.Rectangle object at 0x7f4f9a1fefd0>,PyObject <matplotlib.patches.Rectangle object at 0x7f4f9a20b690>,PyObject <matplotlib.patches.Rectangle object at 0x7f4f9a20bd10>,PyObject <matplotlib.patches.Rectangle object at 0x7f4f9a2173d0>,PyObject <matplotlib.patches.Rectangle object at 0x7f4f9a217a50>,PyObject <matplotlib.patches.Rectangle object at 0x7f4f9a217f50>,PyObject <matplotlib.patches.Rectangle object at 0x7f4f9a222790>,PyObject <matplotlib.patches.Rectangle object at 0x7f4f9a222e10>,PyObject <matplotlib.patches.Rectangle object at 0x7f4f9a22f4d0>,PyObject <matplotlib.patches.Rectangle object at 0x7f4f9a22fb50>,PyObject <matplotlib.patches.Rectangle object at 0x7f4f9a1bc210>,PyObject <matplotlib.patches.Rectangle object at 0x7f4f9a1bc890>,PyObject <matplotlib.patches.Rectangle object at 0x7f4f9a1bcf10>,PyObject <matplotlib.patches.Rectangle object at 0x7f4f9a1c85d0>,PyObject <matplotlib.patches.Rectangle object at 0x7f4f9a1c8c50>,PyObject <matplotlib.patches.Rectangle object at 0x7f4f9a1d5310>,PyObject <matplotlib.patches.Rectangle object at 0x7f4f9a1d5990>,PyObject <matplotlib.patches.Rectangle object at 0x7f4f9a1d5e90>,PyObject <matplotlib.patches.Rectangle object at 0x7f4f9a1e26d0>,PyObject <matplotlib.patches.Rectangle object at 0x7f4f9a521d50>,PyObject <matplotlib.patches.Rectangle object at 0x7f4f9a5a0ed0>,PyObject <matplotlib.patches.Rectangle object at 0x7f4f9a72a8d0>,PyObject <matplotlib.patches.Rectangle object at 0x7f4f9a69c390>,PyObject <matplotlib.patches.Rectangle object at 0x7f4f9a7e10d0>,PyObject <matplotlib.patches.Rectangle object at 0x7f4f9a1f3610>,PyObject <matplotlib.patches.Rectangle object at 0x7f4f9a1f3c90>,PyObject <matplotlib.patches.Rectangle object at 0x7f4f9a180350>,PyObject <matplotlib.patches.Rectangle object at 0x7f4f9a1809d0>,PyObject <matplotlib.patches.Rectangle object at 0x7f4f9a180ed0>,PyObject <matplotlib.patches.Rectangle object at 0x7f4f9a18d710>,PyObject <matplotlib.patches.Rectangle object at 0x7f4f9a18dd90>,PyObject <matplotlib.patches.Rectangle object at 0x7f4f9a199450>,PyObject <matplotlib.patches.Rectangle object at 0x7f4f9a199ad0>,PyObject <matplotlib.patches.Rectangle object at 0x7f4f9a199fd0>,PyObject <matplotlib.patches.Rectangle object at 0x7f4f9a1a6810>,PyObject <matplotlib.patches.Rectangle object at 0x7f4f9a1a6e90>,PyObject <matplotlib.patches.Rectangle object at 0x7f4f9a1b3550>,PyObject <matplotlib.patches.Rectangle object at 0x7f4f9a1b3bd0>,PyObject <matplotlib.patches.Rectangle object at 0x7f4f9a13f290>,PyObject <matplotlib.patches.Rectangle object at 0x7f4f9a13f910>,PyObject <matplotlib.patches.Rectangle object at 0x7f4f9a13ff90>,PyObject <matplotlib.patches.Rectangle object at 0x7f4f9a14a650>,PyObject <matplotlib.patches.Rectangle object at 0x7f4f9a14acd0>,PyObject <matplotlib.patches.Rectangle object at 0x7f4f9a158390>,PyObject <matplotlib.patches.Rectangle object at 0x7f4f9a158a10>,PyObject <matplotlib.patches.Rectangle object at 0x7f4f9a158f10>,PyObject <matplotlib.patches.Rectangle object at 0x7f4f9a166750>,PyObject <matplotlib.patches.Rectangle object at 0x7f4f9a166dd0>,PyObject <matplotlib.patches.Rectangle object at 0x7f4f9a171490>,PyObject <matplotlib.patches.Rectangle object at 0x7f4f9a171b10>,PyObject <matplotlib.patches.Rectangle object at 0x7f4f9a0fe1d0>,PyObject <matplotlib.patches.Rectangle object at 0x7f4f9a0fe850>,PyObject <matplotlib.patches.Rectangle object at 0x7f4f9a0feed0>,PyObject <matplotlib.patches.Rectangle object at 0x7f4f9a10d590>,PyObject <matplotlib.patches.Rectangle object at 0x7f4f9a10dc10>,PyObject <matplotlib.patches.Rectangle object at 0x7f4f9a11a2d0>,PyObject <matplotlib.patches.Rectangle object at 0x7f4f9a11a950>,PyObject <matplotlib.patches.Rectangle object at 0x7f4f9a11afd0>,PyObject <matplotlib.patches.Rectangle object at 0x7f4f9a125690>,PyObject <matplotlib.patches.Rectangle object at 0x7f4f9a125d10>,PyObject <matplotlib.patches.Rectangle object at 0x7f4f9a1323d0>,PyObject <matplotlib.patches.Rectangle object at 0x7f4f9a132a50>,PyObject <matplotlib.patches.Rectangle object at 0x7f4f9a132f50>,PyObject <matplotlib.patches.Rectangle object at 0x7f4f9a0c0790>,PyObject <matplotlib.patches.Rectangle object at 0x7f4f9a0c0e10>,PyObject <matplotlib.patches.Rectangle object at 0x7f4f9a0cb4d0>,PyObject <matplotlib.patches.Rectangle object at 0x7f4f9a0cbb50>,PyObject <matplotlib.patches.Rectangle object at 0x7f4f9a0d8210>,PyObject <matplotlib.patches.Rectangle object at 0x7f4f9a0d8890>,PyObject <matplotlib.patches.Rectangle object at 0x7f4f9a0d8f10>,PyObject <matplotlib.patches.Rectangle object at 0x7f4f9a0e55d0>,PyObject <matplotlib.patches.Rectangle object at 0x7f4f9a0e5c50>,PyObject <matplotlib.patches.Rectangle object at 0x7f4f9a0f2310>,PyObject <matplotlib.patches.Rectangle object at 0x7f4f9a0f2990>,PyObject <matplotlib.patches.Rectangle object at 0x7f4f9a0f2e90>,PyObject <matplotlib.patches.Rectangle object at 0x7f4f9a07e6d0>,PyObject <matplotlib.patches.Rectangle object at 0x7f4f9a07ed50>,PyObject <matplotlib.patches.Rectangle object at 0x7f4f9a08a410>,PyObject <matplotlib.patches.Rectangle object at 0x7f4f9a08aa90>,PyObject <matplotlib.patches.Rectangle object at 0x7f4f9a08af90>,PyObject <matplotlib.patches.Rectangle object at 0x7f4f9a0987d0>,PyObject <matplotlib.patches.Rectangle object at 0x7f4f9a098e50>,PyObject <matplotlib.patches.Rectangle object at 0x7f4f9a0a3510>,PyObject <matplotlib.patches.Rectangle object at 0x7f4f9a0a3b90>,PyObject <matplotlib.patches.Rectangle object at 0x7f4f9a0b1250>,PyObject <matplotlib.patches.Rectangle object at 0x7f4f9a0b18d0>,PyObject <matplotlib.patches.Rectangle object at 0x7f4f9a0b1f50>,PyObject <matplotlib.patches.Rectangle object at 0x7f4f9a03d610>,PyObject <matplotlib.patches.Rectangle object at 0x7f4f9a03dc90>)"
      ]
     },
     "execution_count": 7,
     "metadata": {},
     "output_type": "execute_result"
    }
   ],
   "source": [
    "b = bar(x,y,color=\"#0f87bf\",align=\"center\",alpha=0.4)"
   ]
  },
  {
   "cell_type": "code",
   "execution_count": 13,
   "metadata": {
    "collapsed": false
   },
   "outputs": [
    {
     "data": {
      "image/png": "[encoded data removed]",
      "text/plain": [
       "PyPlot.Figure(PyObject <matplotlib.figure.Figure object at 0x7f4f99734710>)"
      ]
     },
     "metadata": {},
     "output_type": "display_data"
    },
    {
     "data": {
      "text/plain": [
       "(PyObject <matplotlib.patches.Rectangle object at 0x7f4f99380c10>,PyObject <matplotlib.patches.Rectangle object at 0x7f4f99392250>,PyObject <matplotlib.patches.Rectangle object at 0x7f4f993928d0>,PyObject <matplotlib.patches.Rectangle object at 0x7f4f99392f50>,PyObject <matplotlib.patches.Rectangle object at 0x7f4f9939e610>,PyObject <matplotlib.patches.Rectangle object at 0x7f4f9939ec90>,PyObject <matplotlib.patches.Rectangle object at 0x7f4f993ac350>,PyObject <matplotlib.patches.Rectangle object at 0x7f4f993ac9d0>,PyObject <matplotlib.patches.Rectangle object at 0x7f4f993aced0>,PyObject <matplotlib.patches.Rectangle object at 0x7f4f993b7710>,PyObject <matplotlib.patches.Rectangle object at 0x7f4f993b7d90>,PyObject <matplotlib.patches.Rectangle object at 0x7f4f99344450>,PyObject <matplotlib.patches.Rectangle object at 0x7f4f99344ad0>,PyObject <matplotlib.patches.Rectangle object at 0x7f4f99344fd0>,PyObject <matplotlib.patches.Rectangle object at 0x7f4f99352810>,PyObject <matplotlib.patches.Rectangle object at 0x7f4f99352e90>,PyObject <matplotlib.patches.Rectangle object at 0x7f4f9935d550>,PyObject <matplotlib.patches.Rectangle object at 0x7f4f9935dbd0>,PyObject <matplotlib.patches.Rectangle object at 0x7f4f9936a290>,PyObject <matplotlib.patches.Rectangle object at 0x7f4f9936a910>,PyObject <matplotlib.patches.Rectangle object at 0x7f4f9936af90>,PyObject <matplotlib.patches.Rectangle object at 0x7f4f99376650>,PyObject <matplotlib.patches.Rectangle object at 0x7f4f99376cd0>,PyObject <matplotlib.patches.Rectangle object at 0x7f4f99304390>,PyObject <matplotlib.patches.Rectangle object at 0x7f4f99304a10>,PyObject <matplotlib.patches.Rectangle object at 0x7f4f99304f10>,PyObject <matplotlib.patches.Rectangle object at 0x7f4f9930f750>,PyObject <matplotlib.patches.Rectangle object at 0x7f4f9930fdd0>,PyObject <matplotlib.patches.Rectangle object at 0x7f4f9931c490>,PyObject <matplotlib.patches.Rectangle object at 0x7f4f9931cb10>,PyObject <matplotlib.patches.Rectangle object at 0x7f4f9932a1d0>,PyObject <matplotlib.patches.Rectangle object at 0x7f4f993ccc90>,PyObject <matplotlib.patches.Rectangle object at 0x7f4f993cc050>,PyObject <matplotlib.patches.Rectangle object at 0x7f4f994ccb90>,PyObject <matplotlib.patches.Rectangle object at 0x7f4f99427090>,PyObject <matplotlib.patches.Rectangle object at 0x7f4f995c9d90>,PyObject <matplotlib.patches.Rectangle object at 0x7f4f9932afd0>,PyObject <matplotlib.patches.Rectangle object at 0x7f4f992bb690>,PyObject <matplotlib.patches.Rectangle object at 0x7f4f992bbd10>,PyObject <matplotlib.patches.Rectangle object at 0x7f4f992c93d0>,PyObject <matplotlib.patches.Rectangle object at 0x7f4f992c9a50>,PyObject <matplotlib.patches.Rectangle object at 0x7f4f992c9f50>,PyObject <matplotlib.patches.Rectangle object at 0x7f4f992d6790>,PyObject <matplotlib.patches.Rectangle object at 0x7f4f992d6e10>,PyObject <matplotlib.patches.Rectangle object at 0x7f4f992e24d0>,PyObject <matplotlib.patches.Rectangle object at 0x7f4f992e2b50>,PyObject <matplotlib.patches.Rectangle object at 0x7f4f992ee210>,PyObject <matplotlib.patches.Rectangle object at 0x7f4f992ee890>,PyObject <matplotlib.patches.Rectangle object at 0x7f4f992eef10>,PyObject <matplotlib.patches.Rectangle object at 0x7f4f9927b5d0>,PyObject <matplotlib.patches.Rectangle object at 0x7f4f9927bc50>,PyObject <matplotlib.patches.Rectangle object at 0x7f4f99287310>,PyObject <matplotlib.patches.Rectangle object at 0x7f4f99287990>,PyObject <matplotlib.patches.Rectangle object at 0x7f4f99287e90>,PyObject <matplotlib.patches.Rectangle object at 0x7f4f992946d0>,PyObject <matplotlib.patches.Rectangle object at 0x7f4f99294d50>,PyObject <matplotlib.patches.Rectangle object at 0x7f4f992a1410>,PyObject <matplotlib.patches.Rectangle object at 0x7f4f992a1a90>,PyObject <matplotlib.patches.Rectangle object at 0x7f4f992a1f90>,PyObject <matplotlib.patches.Rectangle object at 0x7f4f992ae7d0>,PyObject <matplotlib.patches.Rectangle object at 0x7f4f992aee50>,PyObject <matplotlib.patches.Rectangle object at 0x7f4f9923b510>,PyObject <matplotlib.patches.Rectangle object at 0x7f4f9923bb90>,PyObject <matplotlib.patches.Rectangle object at 0x7f4f99246250>,PyObject <matplotlib.patches.Rectangle object at 0x7f4f992468d0>,PyObject <matplotlib.patches.Rectangle object at 0x7f4f99246f50>,PyObject <matplotlib.patches.Rectangle object at 0x7f4f99253610>,PyObject <matplotlib.patches.Rectangle object at 0x7f4f99253c90>,PyObject <matplotlib.patches.Rectangle object at 0x7f4f9925e350>,PyObject <matplotlib.patches.Rectangle object at 0x7f4f9925e9d0>,PyObject <matplotlib.patches.Rectangle object at 0x7f4f9925eed0>,PyObject <matplotlib.patches.Rectangle object at 0x7f4f9926d710>,PyObject <matplotlib.patches.Rectangle object at 0x7f4f9926dd90>,PyObject <matplotlib.patches.Rectangle object at 0x7f4f991f9450>,PyObject <matplotlib.patches.Rectangle object at 0x7f4f991f9ad0>,PyObject <matplotlib.patches.Rectangle object at 0x7f4f991f9fd0>,PyObject <matplotlib.patches.Rectangle object at 0x7f4f99206810>,PyObject <matplotlib.patches.Rectangle object at 0x7f4f99206e90>,PyObject <matplotlib.patches.Rectangle object at 0x7f4f99212550>,PyObject <matplotlib.patches.Rectangle object at 0x7f4f99212bd0>,PyObject <matplotlib.patches.Rectangle object at 0x7f4f9921f290>,PyObject <matplotlib.patches.Rectangle object at 0x7f4f9921f910>,PyObject <matplotlib.patches.Rectangle object at 0x7f4f9921ff90>,PyObject <matplotlib.patches.Rectangle object at 0x7f4f9922b650>,PyObject <matplotlib.patches.Rectangle object at 0x7f4f9922bcd0>,PyObject <matplotlib.patches.Rectangle object at 0x7f4f991b9390>,PyObject <matplotlib.patches.Rectangle object at 0x7f4f991b9a10>,PyObject <matplotlib.patches.Rectangle object at 0x7f4f991b9f10>,PyObject <matplotlib.patches.Rectangle object at 0x7f4f991c4750>,PyObject <matplotlib.patches.Rectangle object at 0x7f4f991c4dd0>,PyObject <matplotlib.patches.Rectangle object at 0x7f4f991d1490>,PyObject <matplotlib.patches.Rectangle object at 0x7f4f991d1b10>,PyObject <matplotlib.patches.Rectangle object at 0x7f4f991de1d0>,PyObject <matplotlib.patches.Rectangle object at 0x7f4f991de850>,PyObject <matplotlib.patches.Rectangle object at 0x7f4f991deed0>,PyObject <matplotlib.patches.Rectangle object at 0x7f4f991ea590>,PyObject <matplotlib.patches.Rectangle object at 0x7f4f991eac10>,PyObject <matplotlib.patches.Rectangle object at 0x7f4f991f72d0>,PyObject <matplotlib.patches.Rectangle object at 0x7f4f991f7950>,PyObject <matplotlib.patches.Rectangle object at 0x7f4f991f7fd0>,PyObject <matplotlib.patches.Rectangle object at 0x7f4f99183690>)"
      ]
     },
     "execution_count": 13,
     "metadata": {},
     "output_type": "execute_result"
    }
   ],
   "source": [
    "axis(\"tight\")\n",
    "title(\"Vertical Bar Plot\")\n",
    "grid(\"on\")\n",
    "xlabel(\"X\")\n",
    "ylabel(\"Y\")\n",
    "prob=0.6\n",
    "Prueba2  = map((j)->binomialProbability(j,N,prob=prob),0:N)\n",
    "b = bar(x,Prueba2,color=\"red\",align=\"center\",alpha=0.4)"
   ]
  },
  {
   "cell_type": "code",
   "execution_count": 12,
   "metadata": {
    "collapsed": false
   },
   "outputs": [
    {
     "data": {
      "image/png": "[encoded data removed]",
      "text/plain": [
       "PyPlot.Figure(PyObject <matplotlib.figure.Figure object at 0x7f4f99a77a90>)"
      ]
     },
     "metadata": {},
     "output_type": "display_data"
    },
    {
     "data": {
      "text/plain": [
       "1-element Array{Any,1}:\n",
       " PyObject <matplotlib.lines.Line2D object at 0x7f4f996aed10>"
      ]
     },
     "execution_count": 12,
     "metadata": {},
     "output_type": "execute_result"
    }
   ],
   "source": [
    "b = bar(x,Prueba2,color=\"red\",align=\"center\",alpha=0.4)\n",
    "#Comparemos con la distribucion normal, y veamos pyplot\n",
    "mu=N*prob\n",
    "sigmasq = N *prob*(1-prob)\n",
    "normalDist = (x) -> exp(-(x-mu)^2/(2*sigmasq))*(1/sqrt(2pi*sigmasq))\n",
    "xHighRes = [0:0.05:N;]\n",
    "Ys = map(normalDist,xHighRes)\n",
    "plot(xHighRes,Ys)\n",
    "\n",
    "\n",
    "#Luego hacemos una simulacion de como deberia comportarse una moneda y comparamos."
   ]
  },
  {
   "cell_type": "code",
   "execution_count": null,
   "metadata": {
    "collapsed": true
   },
   "outputs": [],
   "source": []
  }
 ],
 "metadata": {
  "kernelspec": {
   "display_name": "Julia 0.4.6",
   "language": "julia",
   "name": "julia-0.4"
  },
  "language_info": {
   "file_extension": ".jl",
   "mimetype": "application/julia",
   "name": "julia",
   "version": "0.4.6"
  }
 },
 "nbformat": 4,
 "nbformat_minor": 0
}
